{
 "cells": [
  {
   "cell_type": "code",
   "execution_count": 172,
   "metadata": {
    "collapsed": false
   },
   "outputs": [],
   "source": [
    "import sys\n",
    "\n",
    "def merge(A, low, mid, high):\n",
    "    leftSide = A[low:mid] + [sys.maxsize] # using maxsize as a sentinel value\n",
    "    rightSide = A[mid:high] + [sys.maxsize] # assumes maxsize would never be in the array\n",
    "    while (low < high):\n",
    "        if (leftSide[0] <= rightSide[0]):\n",
    "            A[low] = leftSide[0]\n",
    "            leftSide = leftSide[1:]\n",
    "        else:\n",
    "            A[low] = rightSide[0]\n",
    "            rightSide = rightSide[1:]\n",
    "        low = low + 1\n",
    "\n",
    "def sort(A, low, high):\n",
    "    if high - low > 1:\n",
    "        mid = (low + high)//2\n",
    "        sort(A, low, mid)\n",
    "        sort(A, mid, high)\n",
    "        merge(A, low, mid, high)"
   ]
  },
  {
   "cell_type": "code",
   "execution_count": 173,
   "metadata": {
    "collapsed": false
   },
   "outputs": [
    {
     "name": "stdout",
     "output_type": "stream",
     "text": [
      "final result Z= [1, 2, 3, 4, 5, 6]\n"
     ]
    }
   ],
   "source": [
    "Z = [6, 5, 4, 3, 2, 1]\n",
    "low, high = 0, len(Z)\n",
    "sort(Z, low, high)\n",
    "print(\"final result Z=\", Z)"
   ]
  },
  {
   "cell_type": "code",
   "execution_count": null,
   "metadata": {
    "collapsed": true
   },
   "outputs": [],
   "source": []
  }
 ],
 "metadata": {
  "kernelspec": {
   "display_name": "Python 3",
   "language": "python",
   "name": "python3"
  },
  "language_info": {
   "codemirror_mode": {
    "name": "ipython",
    "version": 3
   },
   "file_extension": ".py",
   "mimetype": "text/x-python",
   "name": "python",
   "nbconvert_exporter": "python",
   "pygments_lexer": "ipython3",
   "version": "3.5.2"
  }
 },
 "nbformat": 4,
 "nbformat_minor": 2
}
