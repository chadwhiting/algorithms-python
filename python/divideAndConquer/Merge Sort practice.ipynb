{
 "cells": [
  {
   "cell_type": "code",
   "execution_count": 56,
   "metadata": {
    "collapsed": false
   },
   "outputs": [],
   "source": [
    "def merge(a, p, q, r):\n",
    "    n1 = q - p + 1\n",
    "    n2 = r - q\n",
    "    L, R = [], []\n",
    "    for i in range(0, n1):\n",
    "        L.append(a[i + p])\n",
    "    for j in range(0, n2):\n",
    "        R.append(a[j + q + 1])\n",
    "    i, j = 0, 0\n",
    "    for k in range(p, r):\n",
    "        if i <= len(L) and (j >= len(R) or L[i] <= R[j]):\n",
    "            a[k] = L[i]\n",
    "            i += 1\n",
    "        else:\n",
    "            a[k] = R[j]\n",
    "            j += 1"
   ]
  },
  {
   "cell_type": "code",
   "execution_count": 47,
   "metadata": {
    "collapsed": true
   },
   "outputs": [],
   "source": [
    "import math\n",
    "\n",
    "def mergeSort(a, p, r):\n",
    "    if p < r:\n",
    "        mid = math.floor((p + r)/2)\n",
    "        mergeSort(a, p, mid)\n",
    "        mergeSort(a, mid + 1, r)\n",
    "        merge(a, p, mid, r)"
   ]
  },
  {
   "cell_type": "code",
   "execution_count": 57,
   "metadata": {
    "collapsed": false
   },
   "outputs": [
    {
     "name": "stdout",
     "output_type": "stream",
     "text": [
      "[1, 2, 3, 2]\n"
     ]
    }
   ],
   "source": [
    "a = [3, 4, 1, 2]\n",
    "mergeSort(a, 0, 3)\n",
    "print(a)"
   ]
  },
  {
   "cell_type": "code",
   "execution_count": 37,
   "metadata": {
    "collapsed": false
   },
   "outputs": [
    {
     "name": "stdout",
     "output_type": "stream",
     "text": [
      "[1, 2, 3, 4]\n"
     ]
    }
   ],
   "source": [
    "a = [3, 4, 1, 2]\n",
    "merge(a, 0, 1, 3)\n",
    "print(a)"
   ]
  },
  {
   "cell_type": "code",
   "execution_count": null,
   "metadata": {
    "collapsed": true
   },
   "outputs": [],
   "source": []
  }
 ],
 "metadata": {
  "kernelspec": {
   "display_name": "Python 3",
   "language": "python",
   "name": "python3"
  },
  "language_info": {
   "codemirror_mode": {
    "name": "ipython",
    "version": 3
   },
   "file_extension": ".py",
   "mimetype": "text/x-python",
   "name": "python",
   "nbconvert_exporter": "python",
   "pygments_lexer": "ipython3",
   "version": "3.6.4"
  }
 },
 "nbformat": 4,
 "nbformat_minor": 2
}
