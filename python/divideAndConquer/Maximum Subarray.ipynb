{
 "cells": [
  {
   "cell_type": "code",
   "execution_count": 45,
   "metadata": {
    "collapsed": false
   },
   "outputs": [],
   "source": [
    "import sys\n",
    "\n",
    "def findMaxCrossingSubarray(A, low, mid, high):\n",
    "    leftSum, sum, maxLeft = -sys.maxsize, 0, mid\n",
    "    for i in range(mid, low - 1, -1):\n",
    "        sum = sum + A[i]\n",
    "        if sum > leftSum:\n",
    "            leftSum = sum\n",
    "            maxLeft = i\n",
    "    rightSum, sum, maxRight = -sys.maxsize, 0, mid + 1\n",
    "    for j in range(mid + 1, high + 1):\n",
    "        sum = sum + A[j]\n",
    "        if sum > rightSum:\n",
    "            rightSum = sum\n",
    "            maxRight = j\n",
    "    return maxLeft, maxRight, leftSum + rightSum"
   ]
  },
  {
   "cell_type": "code",
   "execution_count": 42,
   "metadata": {
    "collapsed": false
   },
   "outputs": [],
   "source": [
    "def findMaximumSubarray(A, low, high):\n",
    "    if high == low:\n",
    "        return low, high, A[low]\n",
    "    else:\n",
    "        mid = math.floor((low + high)/2)\n",
    "        leftLow, leftHigh, leftSum = findMaximumSubarray(A, low, mid)\n",
    "        rightLow, rightHigh, rightSum = findMaximumSubarray(A, mid + 1, high)\n",
    "        crossLow, crossHigh, crossSum = findMaxCrossingSubarray(A, low, mid, high)\n",
    "        if leftSum >= rightSum and leftSum >= crossSum:\n",
    "            return leftLow, leftHigh, leftSum\n",
    "        elif rightSum >= leftSum and rightSum >= crossSum:\n",
    "            return rightLow, rightHigh, rightSum\n",
    "        return crossLow, crossHigh, crossSum"
   ]
  },
  {
   "cell_type": "code",
   "execution_count": 49,
   "metadata": {
    "collapsed": false
   },
   "outputs": [
    {
     "name": "stdout",
     "output_type": "stream",
     "text": [
      "(2, 2, 3)\n"
     ]
    }
   ],
   "source": [
    "import math\n",
    "\n",
    "#A = [13, -3, -25, 20, -3, -16, -23, 18, 20, -7, 12, -5, -22, 15, -4, 7]\n",
    "A = [1, -4, 3, -4]\n",
    "#print(findMaxCrossingSubarray(A, 0, math.floor(len(A)/2), len(A)-1))\n",
    "print(findMaximumSubarray(A, 0, len(A) - 1))"
   ]
  },
  {
   "cell_type": "code",
   "execution_count": null,
   "metadata": {
    "collapsed": true
   },
   "outputs": [],
   "source": []
  }
 ],
 "metadata": {
  "kernelspec": {
   "display_name": "Python 3",
   "language": "python",
   "name": "python3"
  },
  "language_info": {
   "codemirror_mode": {
    "name": "ipython",
    "version": 3
   },
   "file_extension": ".py",
   "mimetype": "text/x-python",
   "name": "python",
   "nbconvert_exporter": "python",
   "pygments_lexer": "ipython3",
   "version": "3.6.1"
  }
 },
 "nbformat": 4,
 "nbformat_minor": 2
}
