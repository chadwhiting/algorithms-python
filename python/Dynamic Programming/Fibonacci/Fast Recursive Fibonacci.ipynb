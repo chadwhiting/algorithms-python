{
 "cells": [
  {
   "cell_type": "code",
   "execution_count": null,
   "metadata": {
    "collapsed": false,
    "deletable": true,
    "editable": true
   },
   "outputs": [],
   "source": [
    "def fib(n):\n",
    "    global numCalls\n",
    "    numCalls += 1\n",
    "    print ('fib called with', n)\n",
    "    if n <= 1:\n",
    "        return n\n",
    "    else:\n",
    "        return fib(n-1) + fib(n-2)\n",
    "numCalls = 0\n",
    "fib(5)"
   ]
  },
  {
   "cell_type": "code",
   "execution_count": null,
   "metadata": {
    "collapsed": false,
    "deletable": true,
    "editable": true
   },
   "outputs": [],
   "source": [
    "def fib(n):\n",
    "    memo = { 0:0, 1:1}\n",
    "    return fastFib(n, memo)\n",
    "    \n",
    "def fastFib(n, memo):\n",
    "    global numCalls\n",
    "    numCalls +=1\n",
    "    #print ('fastFib call with', n)\n",
    "    if not n in memo:\n",
    "        memo[n] = fastFib(n-1, memo) + fastFib(n-2, memo)\n",
    "    return memo[n]\n",
    "\n",
    "numCalls = 0\n",
    "fib(1000)"
   ]
  },
  {
   "cell_type": "code",
   "execution_count": null,
   "metadata": {
    "collapsed": false,
    "deletable": true,
    "editable": true
   },
   "outputs": [],
   "source": [
    "def fibHeavy(n):\n",
    "    memo = [0, 1]\n",
    "    for i in range(2, n + 1):\n",
    "        memo.append(memo[i-1] + memo[i-2])\n",
    "    print(len(memo))\n",
    "    return memo[n]\n",
    "\n",
    "#fibHeavy(1000000)"
   ]
  },
  {
   "cell_type": "code",
   "execution_count": null,
   "metadata": {
    "collapsed": false
   },
   "outputs": [],
   "source": [
    "def fibLite(n):\n",
    "    if n < 2:\n",
    "        return n\n",
    "    memo = { 0:0, 1:1, 'tmp':0 }\n",
    "    for i in range(2, n + 1):\n",
    "        memo['tmp'] = memo[1]\n",
    "        memo[1] = memo[0] + memo[1]\n",
    "        memo[0] = memo['tmp']\n",
    "    print(len(memo))\n",
    "    return memo[1]"
   ]
  },
  {
   "cell_type": "code",
   "execution_count": null,
   "metadata": {
    "collapsed": true
   },
   "outputs": [],
   "source": [
    "n = 10000000"
   ]
  },
  {
   "cell_type": "code",
   "execution_count": null,
   "metadata": {
    "collapsed": false
   },
   "outputs": [],
   "source": [
    "print(fibLite(n))"
   ]
  },
  {
   "cell_type": "code",
   "execution_count": null,
   "metadata": {
    "collapsed": false,
    "deletable": true,
    "editable": true
   },
   "outputs": [],
   "source": [
    "print(\"fibHeavy\",fibHeavy(n))"
   ]
  },
  {
   "cell_type": "code",
   "execution_count": null,
   "metadata": {
    "collapsed": true
   },
   "outputs": [],
   "source": []
  }
 ],
 "metadata": {
  "kernelspec": {
   "display_name": "Python 3",
   "language": "python",
   "name": "python3"
  },
  "language_info": {
   "codemirror_mode": {
    "name": "ipython",
    "version": 3
   },
   "file_extension": ".py",
   "mimetype": "text/x-python",
   "name": "python",
   "nbconvert_exporter": "python",
   "pygments_lexer": "ipython3",
   "version": "3.6.1"
  }
 },
 "nbformat": 4,
 "nbformat_minor": 2
}
