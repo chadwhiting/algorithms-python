{
 "cells": [
  {
   "cell_type": "code",
   "execution_count": 93,
   "metadata": {
    "collapsed": false,
    "deletable": true,
    "editable": true
   },
   "outputs": [],
   "source": [
    "from math import floor\n",
    "\n",
    "def findSubsequence(s):\n",
    "    print(s)\n",
    "    result, n = [], len(s)\n",
    "    if n > 1:\n",
    "        mid = floor(n/2)\n",
    "        result = result + findSubsequence(s[:mid])\n",
    "        result = result + findSubsequence(s[mid:])\n",
    "        result.append(s[:mid]+s[mid+1:])\n",
    "    result.append(s)\n",
    "    return result\n",
    "    "
   ]
  },
  {
   "cell_type": "code",
   "execution_count": 108,
   "metadata": {
    "collapsed": true
   },
   "outputs": [],
   "source": [
    "def findSub(s):\n",
    "    n, result, result2 = len(s), list(s), []\n",
    "    \n",
    "    #for i in range(1,len(snapshot)):\n",
    "    #    result.append(snapshot[i-1]+snapshot[i])\n",
    "    for i in range(n):\n",
    "        for j in range(i+1,n):\n",
    "            result2.append(s[i]+s[j])\n",
    "    result3 = []\n",
    "    for i in range(len(result2)):\n",
    "        for j in range(i+1,len(result2)):\n",
    "            result3.append(result2[i]+result2[j])\n",
    "    print(result, result2, result3)\n",
    "    return result"
   ]
  },
  {
   "cell_type": "code",
   "execution_count": 109,
   "metadata": {
    "collapsed": false,
    "deletable": true,
    "editable": true
   },
   "outputs": [
    {
     "name": "stdout",
     "output_type": "stream",
     "text": [
      "['A', 'B', 'C', 'D'] ['AB', 'AC', 'AD', 'BC', 'BD', 'CD'] ['ABAC', 'ABAD', 'ABBC', 'ABBD', 'ABCD', 'ACAD', 'ACBC', 'ACBD', 'ACCD', 'ADBC', 'ADBD', 'ADCD', 'BCBD', 'BCCD', 'BDCD']\n",
      "['A', 'B', 'C', 'D']\n"
     ]
    }
   ],
   "source": [
    "#a, b = \"ABC\", \"BAC\"\n",
    "a = \"ACCGGTCGAGTGCGCGGAAGCCGGCCGAA\"\n",
    "B = \"GTCGTTCGGAATGCCGTTGCTCTGTAAA\"\n",
    "LONGEST = \"GTCGTCGGAAGCCGGCCGAA\"\n",
    "result = bruteForceLCS(a,b)\n",
    "#print (LONGEST in result)\n",
    "#print(result)\n",
    "#print(result == LONGEST, result)\n",
    "print(findSub(\"ABCD\"))\n",
    "#print(subs)"
   ]
  },
  {
   "cell_type": "code",
   "execution_count": null,
   "metadata": {
    "collapsed": true,
    "deletable": true,
    "editable": true
   },
   "outputs": [],
   "source": []
  }
 ],
 "metadata": {
  "kernelspec": {
   "display_name": "Python 3",
   "language": "python",
   "name": "python3"
  },
  "language_info": {
   "codemirror_mode": {
    "name": "ipython",
    "version": 3
   },
   "file_extension": ".py",
   "mimetype": "text/x-python",
   "name": "python",
   "nbconvert_exporter": "python",
   "pygments_lexer": "ipython3",
   "version": "3.6.1"
  }
 },
 "nbformat": 4,
 "nbformat_minor": 2
}
