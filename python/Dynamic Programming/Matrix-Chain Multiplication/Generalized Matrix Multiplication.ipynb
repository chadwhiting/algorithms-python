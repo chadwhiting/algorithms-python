{
 "cells": [
  {
   "cell_type": "code",
   "execution_count": 39,
   "metadata": {
    "collapsed": false
   },
   "outputs": [],
   "source": [
    "def multiplyMatrices(a, b):\n",
    "    if len(a[0]) != len(b):\n",
    "        raise Exception(\"Incompatible Matrices\")\n",
    "    else:\n",
    "        rows = len(a) # rows of a\n",
    "        columns = len(b[0]) # columns of b\n",
    "        Matrix = [[0 for x in range(columns)] for y in range(rows)]\n",
    "        # printMatrix(\"initial resulting matrix\", Matrix)\n",
    "        for i in range(rows):\n",
    "            for j in range(columns):\n",
    "                for k in range(len(a[0])):\n",
    "                    Matrix[i][j] = Matrix[i][j] + a[i][k] * b[k][j]\n",
    "        return Matrix"
   ]
  },
  {
   "cell_type": "code",
   "execution_count": 24,
   "metadata": {
    "collapsed": true
   },
   "outputs": [],
   "source": [
    "def printMatrix(msg, a):\n",
    "    print (msg)\n",
    "    for x in range(len(a)):\n",
    "        for y in range(len(a[0])):\n",
    "            print (a[x][y], end=' ')\n",
    "        print()"
   ]
  },
  {
   "cell_type": "code",
   "execution_count": 42,
   "metadata": {
    "collapsed": false
   },
   "outputs": [
    {
     "name": "stdout",
     "output_type": "stream",
     "text": [
      "These 2 matrices should not be compatible\n",
      "a: rows= 2 columns= 2\n",
      "2 1 \n",
      "5 2 \n",
      "b: rows= 1 columns= 2\n",
      "2 1 \n"
     ]
    },
    {
     "ename": "Exception",
     "evalue": "Incompatible Matrices",
     "output_type": "error",
     "traceback": [
      "\u001b[0;31m---------------------------------------------------------------------------\u001b[0m",
      "\u001b[0;31mException\u001b[0m                                 Traceback (most recent call last)",
      "\u001b[0;32m<ipython-input-42-0c88ff0022fc>\u001b[0m in \u001b[0;36m<module>\u001b[0;34m()\u001b[0m\n\u001b[1;32m     20\u001b[0m \u001b[0mprintMatrix\u001b[0m\u001b[0;34m(\u001b[0m\u001b[0;34m\"b: rows= %s columns= %s\"\u001b[0m \u001b[0;34m%\u001b[0m \u001b[0;34m(\u001b[0m\u001b[0mlen\u001b[0m\u001b[0;34m(\u001b[0m\u001b[0mb\u001b[0m\u001b[0;34m)\u001b[0m\u001b[0;34m,\u001b[0m\u001b[0mlen\u001b[0m\u001b[0;34m(\u001b[0m\u001b[0mb\u001b[0m\u001b[0;34m[\u001b[0m\u001b[0;36m0\u001b[0m\u001b[0;34m]\u001b[0m\u001b[0;34m)\u001b[0m\u001b[0;34m)\u001b[0m\u001b[0;34m,\u001b[0m\u001b[0mb\u001b[0m\u001b[0;34m)\u001b[0m\u001b[0;34m\u001b[0m\u001b[0m\n\u001b[1;32m     21\u001b[0m \u001b[0;34m\u001b[0m\u001b[0m\n\u001b[0;32m---> 22\u001b[0;31m \u001b[0mmultiplyMatrices\u001b[0m\u001b[0;34m(\u001b[0m\u001b[0ma\u001b[0m\u001b[0;34m,\u001b[0m \u001b[0mb\u001b[0m\u001b[0;34m)\u001b[0m\u001b[0;34m\u001b[0m\u001b[0m\n\u001b[0m",
      "\u001b[0;32m<ipython-input-39-d97b53005970>\u001b[0m in \u001b[0;36mmultiplyMatrices\u001b[0;34m(a, b)\u001b[0m\n\u001b[1;32m      1\u001b[0m \u001b[0;32mdef\u001b[0m \u001b[0mmultiplyMatrices\u001b[0m\u001b[0;34m(\u001b[0m\u001b[0ma\u001b[0m\u001b[0;34m,\u001b[0m \u001b[0mb\u001b[0m\u001b[0;34m)\u001b[0m\u001b[0;34m:\u001b[0m\u001b[0;34m\u001b[0m\u001b[0m\n\u001b[1;32m      2\u001b[0m     \u001b[0;32mif\u001b[0m \u001b[0mlen\u001b[0m\u001b[0;34m(\u001b[0m\u001b[0ma\u001b[0m\u001b[0;34m[\u001b[0m\u001b[0;36m0\u001b[0m\u001b[0;34m]\u001b[0m\u001b[0;34m)\u001b[0m \u001b[0;34m!=\u001b[0m \u001b[0mlen\u001b[0m\u001b[0;34m(\u001b[0m\u001b[0mb\u001b[0m\u001b[0;34m)\u001b[0m\u001b[0;34m:\u001b[0m\u001b[0;34m\u001b[0m\u001b[0m\n\u001b[0;32m----> 3\u001b[0;31m         \u001b[0;32mraise\u001b[0m \u001b[0mException\u001b[0m\u001b[0;34m(\u001b[0m\u001b[0;34m\"Incompatible Matrices\"\u001b[0m\u001b[0;34m)\u001b[0m\u001b[0;34m\u001b[0m\u001b[0m\n\u001b[0m\u001b[1;32m      4\u001b[0m     \u001b[0;32melse\u001b[0m\u001b[0;34m:\u001b[0m\u001b[0;34m\u001b[0m\u001b[0m\n\u001b[1;32m      5\u001b[0m         \u001b[0mrows\u001b[0m \u001b[0;34m=\u001b[0m \u001b[0mlen\u001b[0m\u001b[0;34m(\u001b[0m\u001b[0ma\u001b[0m\u001b[0;34m)\u001b[0m \u001b[0;31m# rows of a\u001b[0m\u001b[0;34m\u001b[0m\u001b[0m\n",
      "\u001b[0;31mException\u001b[0m: Incompatible Matrices"
     ]
    }
   ],
   "source": [
    "def getDummy2x2MatrixA():\n",
    "    a = [[0 for x in range(2)] for y in range(2)]\n",
    "    a[0][0] = 2\n",
    "    a[1][0] = 5\n",
    "    a[0][1] = 1\n",
    "    a[1][1] = 2\n",
    "    return a\n",
    "\n",
    "def getDummy1x2Matrixb():\n",
    "    a = [[0 for x in range(2)] for y in range(1)]\n",
    "    a[0][0] = 2\n",
    "    a[0][1] = 1\n",
    "    return a\n",
    "\n",
    "a = getDummy2x2MatrixA()\n",
    "b = getDummy1x2Matrixb()\n",
    "\n",
    "print(\"These 2 matrices should not be compatible\")\n",
    "printMatrix(\"a: rows= %s columns= %s\" % (len(a),len(a[0])),a)\n",
    "printMatrix(\"b: rows= %s columns= %s\" % (len(b),len(b[0])),b)\n",
    "\n",
    "multiplyMatrices(a, b)"
   ]
  },
  {
   "cell_type": "code",
   "execution_count": 43,
   "metadata": {
    "collapsed": false
   },
   "outputs": [
    {
     "name": "stdout",
     "output_type": "stream",
     "text": [
      "These 2 matrices should be compatible\n",
      "a: rows= 2 columns= 2\n",
      "2 1 \n",
      "5 2 \n",
      "b: rows= 2 columns= 2\n",
      "1 4 \n",
      "3 6 \n",
      "c: rows= 2 columns= 2\n",
      "5 14 \n",
      "11 32 \n"
     ]
    }
   ],
   "source": [
    "def get2x2MatrixA():\n",
    "    a = [[0 for x in range(2)] for y in range(2)]\n",
    "    a[0][0] = 2\n",
    "    a[1][0] = 5\n",
    "    a[0][1] = 1\n",
    "    a[1][1] = 2\n",
    "    return a\n",
    "\n",
    "def get2x2MatrixB():\n",
    "    b = [[0 for x in range(2)] for y in range(2)]\n",
    "    b[0][0] = 1\n",
    "    b[1][0] = 3\n",
    "    b[0][1] = 4\n",
    "    b[1][1] = 6\n",
    "    return b\n",
    "\n",
    "a = get2x2MatrixA()\n",
    "b = get2x2MatrixB()\n",
    "\n",
    "print(\"These 2 matrices should be compatible\")\n",
    "printMatrix(\"a: rows= %s columns= %s\" % (len(a),len(a[0])),a)\n",
    "printMatrix(\"b: rows= %s columns= %s\" % (len(b),len(b[0])),b)\n",
    "\n",
    "c = multiplyMatrices(a, b)\n",
    "printMatrix(\"c: rows= %s columns= %s\" % (len(c),len(c[0])),c)"
   ]
  },
  {
   "cell_type": "code",
   "execution_count": 40,
   "metadata": {
    "collapsed": false
   },
   "outputs": [
    {
     "name": "stdout",
     "output_type": "stream",
     "text": [
      "These 2 matrices should be compatible\n",
      "a: rows= 2 columns= 3\n",
      "1 2 3 \n",
      "2 3 4 \n",
      "b: rows= 3 columns= 1\n",
      "2 \n",
      "1 \n",
      "3 \n",
      "c: rows= 2 columns= 1\n",
      "13 \n",
      "19 \n"
     ]
    }
   ],
   "source": [
    "def get2X3Matrix():\n",
    "    matrix = [[0 for x in range(3)] for y in range(2)]\n",
    "    matrix[0][0] = 1\n",
    "    matrix[1][0] = 2\n",
    "\n",
    "    matrix[0][1] = 2\n",
    "    matrix[1][1] = 3\n",
    "    \n",
    "    matrix[0][2] = 3\n",
    "    matrix[1][2] = 4\n",
    "    return matrix\n",
    "\n",
    "def get3X1Matrix():\n",
    "    matrix = [[0 for x in range(1)] for y in range(3)]\n",
    "    matrix[0][0] = 2\n",
    "    matrix[1][0] = 1\n",
    "    matrix[2][0] = 3\n",
    "    return matrix\n",
    "\n",
    "a = get2X3Matrix()\n",
    "b = get3X1Matrix()\n",
    "\n",
    "print(\"These 2 matrices should be compatible\")\n",
    "printMatrix(\"a: rows= %s columns= %s\" % (len(a),len(a[0])),a)\n",
    "printMatrix(\"b: rows= %s columns= %s\" % (len(b),len(b[0])),b)\n",
    "\n",
    "c = multiplyMatrices(a, b)\n",
    "printMatrix(\"c: rows= %s columns= %s\" % (len(c),len(c[0])),c)"
   ]
  },
  {
   "cell_type": "code",
   "execution_count": null,
   "metadata": {
    "collapsed": true
   },
   "outputs": [],
   "source": []
  }
 ],
 "metadata": {
  "kernelspec": {
   "display_name": "Python 3",
   "language": "python",
   "name": "python3"
  },
  "language_info": {
   "codemirror_mode": {
    "name": "ipython",
    "version": 3
   },
   "file_extension": ".py",
   "mimetype": "text/x-python",
   "name": "python",
   "nbconvert_exporter": "python",
   "pygments_lexer": "ipython3",
   "version": "3.6.1"
  }
 },
 "nbformat": 4,
 "nbformat_minor": 2
}
