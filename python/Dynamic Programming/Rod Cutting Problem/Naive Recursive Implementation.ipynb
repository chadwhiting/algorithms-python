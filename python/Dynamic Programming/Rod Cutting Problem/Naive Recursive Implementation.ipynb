{
 "cells": [
  {
   "cell_type": "code",
   "execution_count": 16,
   "metadata": {
    "collapsed": false,
    "deletable": true,
    "editable": true
   },
   "outputs": [],
   "source": [
    "def cutRod(p,n):\n",
    "    if n <= 0:\n",
    "        return 0\n",
    "    q = -sys.maxsize - 1\n",
    "    for i in range(n):\n",
    "        q = max(q, p[i] + cutRod(p, n-i-1))\n",
    "    return q"
   ]
  },
  {
   "cell_type": "code",
   "execution_count": 35,
   "metadata": {
    "collapsed": true
   },
   "outputs": [],
   "source": [
    "def memoizedCutRod(p,n):\n",
    "    r = []\n",
    "    for i in range(n+1):\n",
    "        r.append(-1)\n",
    "    return memoizedCutRodAux(p,n,r)\n",
    "\n",
    "def memoizedCutRodAux(p,n,r):\n",
    "    if r[n] >= 0:\n",
    "        return r[n]\n",
    "    if n == 0:\n",
    "        q = 0\n",
    "    else:\n",
    "        q = -sys.maxsize - 1\n",
    "        for i in range(n):\n",
    "            q = max(q, p[i] + memoizedCutRodAux(p, n-i-1, r))\n",
    "    r[n] = q\n",
    "    return q"
   ]
  },
  {
   "cell_type": "code",
   "execution_count": 38,
   "metadata": {
    "collapsed": false
   },
   "outputs": [],
   "source": [
    "p = [1, 5, 8, 9, 10, 17, 17, 20, 24, 30, 1, 5, 8, 9, 10, 17, 17, 20, 24, 30, 1, 5, 8, 9, 10]"
   ]
  },
  {
   "cell_type": "code",
   "execution_count": 39,
   "metadata": {
    "collapsed": false
   },
   "outputs": [
    {
     "name": "stdout",
     "output_type": "stream",
     "text": [
      "i: 1 1\n",
      "i: 2 5\n",
      "i: 3 8\n",
      "i: 4 10\n",
      "i: 5 13\n",
      "i: 6 17\n",
      "i: 7 18\n",
      "i: 8 22\n",
      "i: 9 25\n",
      "i: 10 30\n",
      "i: 11 31\n",
      "i: 12 35\n",
      "i: 13 38\n",
      "i: 14 40\n",
      "i: 15 43\n",
      "i: 16 47\n",
      "i: 17 48\n",
      "i: 18 52\n",
      "i: 19 55\n",
      "i: 20 60\n",
      "i: 21 61\n",
      "i: 22 65\n",
      "i: 23 68\n",
      "i: 24 70\n"
     ]
    }
   ],
   "source": [
    "for i in range(1,len(p)):\n",
    "    print(\"i:\",i,memoizedCutRod(p,i))"
   ]
  },
  {
   "cell_type": "code",
   "execution_count": null,
   "metadata": {
    "collapsed": false
   },
   "outputs": [
    {
     "name": "stdout",
     "output_type": "stream",
     "text": [
      "i: 1 1\n",
      "i: 2 5\n",
      "i: 3 8\n",
      "i: 4 10\n",
      "i: 5 13\n",
      "i: 6 17\n",
      "i: 7 18\n",
      "i: 8 22\n",
      "i: 9 25\n",
      "i: 10 30\n",
      "i: 11 31\n",
      "i: 12 35\n",
      "i: 13 38\n",
      "i: 14 40\n",
      "i: 15 43\n",
      "i: 16 47\n",
      "i: 17 48\n",
      "i: 18 52\n",
      "i: 19 55\n",
      "i: 20 60\n",
      "i: 21 61\n",
      "i: 22 65\n",
      "i: 23 68\n"
     ]
    }
   ],
   "source": [
    "for i in range(1,len(p)):\n",
    "    print(\"i:\",i,cutRod(p,i))"
   ]
  },
  {
   "cell_type": "code",
   "execution_count": null,
   "metadata": {
    "collapsed": true
   },
   "outputs": [],
   "source": []
  }
 ],
 "metadata": {
  "kernelspec": {
   "display_name": "Python 3",
   "language": "python",
   "name": "python3"
  },
  "language_info": {
   "codemirror_mode": {
    "name": "ipython",
    "version": 3
   },
   "file_extension": ".py",
   "mimetype": "text/x-python",
   "name": "python",
   "nbconvert_exporter": "python",
   "pygments_lexer": "ipython3",
   "version": "3.6.1"
  }
 },
 "nbformat": 4,
 "nbformat_minor": 2
}
