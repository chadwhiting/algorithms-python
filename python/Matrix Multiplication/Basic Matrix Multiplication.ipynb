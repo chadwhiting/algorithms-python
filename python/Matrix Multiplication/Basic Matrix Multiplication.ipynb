{
 "cells": [
  {
   "cell_type": "code",
   "execution_count": 51,
   "metadata": {
    "collapsed": false,
    "deletable": true,
    "editable": true
   },
   "outputs": [],
   "source": [
    "def multiplyMatrices(a, b):\n",
    "    # Get the number of rows which also happens to be the number of columns\n",
    "    # Assuming we're dealing with square n x n matrices\n",
    "    n = len(a)\n",
    "    # Create a new matrix to store the result\n",
    "    Matrix = [[0 for x in range(n)] for y in range(n)]\n",
    "    # compute the values of each row in the new matrix i\n",
    "    for i in range(n):\n",
    "        # compute the values of each column ij of the new matrix\n",
    "        for j in range(n):\n",
    "            # initialize the new value to 0\n",
    "            Matrix[i][j] = 0\n",
    "            # add the previously calculated value to the product of column k of a and row j of b\n",
    "            for k in range(n):\n",
    "                Matrix[i][j] = Matrix[i][j] + a[i][k] * b[k][j]\n",
    "    return Matrix"
   ]
  },
  {
   "cell_type": "code",
   "execution_count": 49,
   "metadata": {
    "collapsed": true,
    "deletable": true,
    "editable": true
   },
   "outputs": [],
   "source": [
    "def printMatrix(msg, a):\n",
    "    n = len(a)\n",
    "    print (msg)\n",
    "    for x in range(n):\n",
    "        for y in range(n):\n",
    "            print (a[x][y], end=' ')\n",
    "        print()"
   ]
  },
  {
   "cell_type": "code",
   "execution_count": 48,
   "metadata": {
    "collapsed": true,
    "deletable": true,
    "editable": true
   },
   "outputs": [],
   "source": [
    "def getDummy2x2MatrixA():\n",
    "    a = [[0 for x in range(2)] for y in range(2)]\n",
    "    a[0][0] = 2\n",
    "    a[1][0] = 5\n",
    "    a[0][1] = 1\n",
    "    a[1][1] = 2\n",
    "    return a\n",
    "\n",
    "def getDummy2x2MatrixB():\n",
    "    b = [[0 for x in range(2)] for y in range(2)]\n",
    "    b[0][0] = 1\n",
    "    b[1][0] = 3\n",
    "    b[0][1] = 4\n",
    "    b[1][1] = 6\n",
    "    return b"
   ]
  },
  {
   "cell_type": "code",
   "execution_count": 52,
   "metadata": {
    "collapsed": false,
    "deletable": true,
    "editable": true
   },
   "outputs": [
    {
     "name": "stdout",
     "output_type": "stream",
     "text": [
      "A\n",
      "2 1 \n",
      "5 2 \n",
      "B\n",
      "1 4 \n",
      "3 6 \n",
      "Result\n",
      "5 14 \n",
      "11 32 \n"
     ]
    }
   ],
   "source": [
    "a = getDummy2x2MatrixA()\n",
    "b = getDummy2x2MatrixB()\n",
    "\n",
    "result = multiplyMatrices(a, b)\n",
    "\n",
    "printMatrix(\"A\", a)\n",
    "printMatrix(\"B\", b)\n",
    "printMatrix(\"Result\", result)"
   ]
  }
 ],
 "metadata": {
  "kernelspec": {
   "display_name": "Python 3",
   "language": "python",
   "name": "python3"
  },
  "language_info": {
   "codemirror_mode": {
    "name": "ipython",
    "version": 3
   },
   "file_extension": ".py",
   "mimetype": "text/x-python",
   "name": "python",
   "nbconvert_exporter": "python",
   "pygments_lexer": "ipython3",
   "version": "3.6.1"
  }
 },
 "nbformat": 4,
 "nbformat_minor": 2
}
