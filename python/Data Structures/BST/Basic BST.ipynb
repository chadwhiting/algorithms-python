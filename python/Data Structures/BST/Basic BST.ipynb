{
 "cells": [
  {
   "cell_type": "code",
   "execution_count": 4,
   "metadata": {
    "collapsed": true,
    "deletable": true,
    "editable": true
   },
   "outputs": [],
   "source": [
    "class Node:\n",
    "    def __init__(self, data, parent = None, left = None, right = None):\n",
    "        self.data = data\n",
    "        self.parent = parent\n",
    "        self.left = left\n",
    "        self.right = right"
   ]
  },
  {
   "cell_type": "code",
   "execution_count": 33,
   "metadata": {
    "collapsed": true,
    "deletable": true,
    "editable": true
   },
   "outputs": [],
   "source": [
    "def inOrderTreeWalk(x):\n",
    "    if x is not None:\n",
    "        inOrderTreeWalk(x.left)\n",
    "        print(x.data, end='')\n",
    "        inOrderTreeWalk(x.right)"
   ]
  },
  {
   "cell_type": "code",
   "execution_count": 10,
   "metadata": {
    "collapsed": false,
    "deletable": true,
    "editable": true
   },
   "outputs": [],
   "source": [
    "def treeSearch(x, k):\n",
    "    if x is None or x.data == k.data:\n",
    "        return x\n",
    "    elif k.data <= x.data:\n",
    "        return treeSearch(x.left, k)\n",
    "    return treeSearch(x.right, k)"
   ]
  },
  {
   "cell_type": "code",
   "execution_count": 19,
   "metadata": {
    "collapsed": true,
    "deletable": true,
    "editable": true
   },
   "outputs": [],
   "source": [
    "def iterativeTreeSearch(x, k):\n",
    "    while x is not None and x.data != k.data:\n",
    "        if k.data <= x.data:\n",
    "            x = x.left\n",
    "        else:\n",
    "            x = x.right\n",
    "    return x"
   ]
  },
  {
   "cell_type": "code",
   "execution_count": 27,
   "metadata": {
    "collapsed": true,
    "deletable": true,
    "editable": true
   },
   "outputs": [],
   "source": [
    "def minimum(x):\n",
    "    while x.left is not None:\n",
    "        x = x.left\n",
    "    return x"
   ]
  },
  {
   "cell_type": "code",
   "execution_count": 29,
   "metadata": {
    "collapsed": true,
    "deletable": true,
    "editable": true
   },
   "outputs": [],
   "source": [
    "def maximum(x):\n",
    "    while x.right is not None:\n",
    "        x = x.right\n",
    "    return x"
   ]
  },
  {
   "cell_type": "code",
   "execution_count": 36,
   "metadata": {
    "collapsed": true,
    "deletable": true,
    "editable": true
   },
   "outputs": [],
   "source": [
    "def successor(x):\n",
    "    if x.right is not None:\n",
    "        return minimum(x.right)\n",
    "    y = x.parent\n",
    "    while y is not None and x == y.right:\n",
    "        x = y\n",
    "        y = y.parent\n",
    "    return y"
   ]
  },
  {
   "cell_type": "code",
   "execution_count": 40,
   "metadata": {
    "collapsed": true,
    "deletable": true,
    "editable": true
   },
   "outputs": [],
   "source": [
    "def predecessor(x):\n",
    "    if x.left is not None:\n",
    "        return maximum(x.left)\n",
    "    y = x.parent\n",
    "    while y is not None and x == y.left:\n",
    "        x = y\n",
    "        y = y.parent\n",
    "    return y"
   ]
  },
  {
   "cell_type": "code",
   "execution_count": 50,
   "metadata": {
    "collapsed": true,
    "deletable": true,
    "editable": true
   },
   "outputs": [],
   "source": [
    "def insert(x, z):\n",
    "    y = None\n",
    "    while x is not None:\n",
    "        y = x\n",
    "        if z.data < x.data:\n",
    "            x = x.left\n",
    "        else:\n",
    "            x = x.right\n",
    "    z.parent = y\n",
    "    if y is None:\n",
    "        x = z # Tree was empty\n",
    "    elif z.data < y.data:\n",
    "        y.left = z\n",
    "    else:\n",
    "        y.right = z"
   ]
  },
  {
   "cell_type": "code",
   "execution_count": null,
   "metadata": {
    "collapsed": true
   },
   "outputs": [],
   "source": [
    "def delete"
   ]
  },
  {
   "cell_type": "code",
   "execution_count": null,
   "metadata": {
    "collapsed": true,
    "deletable": true,
    "editable": true
   },
   "outputs": [],
   "source": [
    "root = Node(5)\n",
    "\n",
    "root.left = Node(3, root)\n",
    "root.left.right = Node(4, root.left)\n",
    "root.left.left = Node(2, root.left)\n",
    "\n",
    "root.left.left.left = Node(1, root.left.left)\n",
    "\n",
    "root.right = Node(8, root)\n",
    "root.right.right = Node(9, root.right)\n",
    "root.right.left = Node(7, root.right)\n",
    "root.right.left.left = Node(6, root.right.left)"
   ]
  },
  {
   "cell_type": "code",
   "execution_count": 51,
   "metadata": {
    "collapsed": true,
    "deletable": true,
    "editable": true
   },
   "outputs": [],
   "source": [
    "root = Node(5)\n",
    "insert(root, Node(3))\n",
    "insert(root, Node(4))\n",
    "insert(root, Node(2))\n",
    "insert(root, Node(1))\n",
    "insert(root, Node(8))\n",
    "insert(root, Node(9))\n",
    "insert(root, Node(7))\n",
    "insert(root, Node(6))"
   ]
  },
  {
   "cell_type": "code",
   "execution_count": 52,
   "metadata": {
    "collapsed": false,
    "deletable": true,
    "editable": true
   },
   "outputs": [
    {
     "name": "stdout",
     "output_type": "stream",
     "text": [
      "Tree in order: 123456789\n",
      "Find 7: 7\n",
      "Find 2: 2\n",
      "Minimum: 1\n",
      "Maximum: 9\n",
      "Successor(1): 2\n",
      "Successor(2): 3\n",
      "Successor(3): 4\n",
      "Successor(4): 5\n",
      "Successor(5): 6\n",
      "Successor(6): 7\n",
      "Successor(7): 8\n",
      "Successor(8): 9\n",
      "Predecessor(2): 1\n",
      "Predecessor(3): 2\n",
      "Predecessor(4): 3\n",
      "Predecessor(5): 4\n",
      "Predecessor(6): 5\n",
      "Predecessor(7): 6\n",
      "Predecessor(8): 7\n",
      "Predecessor(9): 8\n"
     ]
    }
   ],
   "source": [
    "print(\"Tree in order:\", end=' ')\n",
    "inOrderTreeWalk(root)\n",
    "print()\n",
    "\n",
    "print(\"Find 7: \", treeSearch(root, Node(7)).data, sep='')\n",
    "print(\"Find 2: \", iterativeTreeSearch(root, Node(2)).data, sep='')\n",
    "print(\"Minimum: \", minimum(root).data, sep='')\n",
    "print(\"Maximum: \", maximum(root).data, sep='')\n",
    "for i in range(1,9):\n",
    "    print(\"Successor(\",i,\"): \", successor(iterativeTreeSearch(root, Node(i))).data, sep='')\n",
    "for i in range(2,10):\n",
    "    print(\"Predecessor(\",i,\"): \", predecessor(iterativeTreeSearch(root, Node(i))).data, sep='')"
   ]
  },
  {
   "cell_type": "code",
   "execution_count": null,
   "metadata": {
    "collapsed": true,
    "deletable": true,
    "editable": true
   },
   "outputs": [],
   "source": []
  }
 ],
 "metadata": {
  "kernelspec": {
   "display_name": "Python 3",
   "language": "python",
   "name": "python3"
  },
  "language_info": {
   "codemirror_mode": {
    "name": "ipython",
    "version": 3
   },
   "file_extension": ".py",
   "mimetype": "text/x-python",
   "name": "python",
   "nbconvert_exporter": "python",
   "pygments_lexer": "ipython3",
   "version": "3.6.1"
  }
 },
 "nbformat": 4,
 "nbformat_minor": 2
}
