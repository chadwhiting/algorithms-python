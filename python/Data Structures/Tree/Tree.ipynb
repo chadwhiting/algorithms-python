{
 "cells": [
  {
   "cell_type": "code",
   "execution_count": 11,
   "metadata": {
    "collapsed": true
   },
   "outputs": [],
   "source": [
    "class Tree:\n",
    "    def __init__(self, cargo, left=None, right=None):\n",
    "        self.cargo = cargo\n",
    "        self.left = left\n",
    "        self.right = right\n",
    "    \n",
    "    def __str__(self):\n",
    "        return str(self.cargo)"
   ]
  },
  {
   "cell_type": "code",
   "execution_count": 14,
   "metadata": {
    "collapsed": true
   },
   "outputs": [],
   "source": [
    "left = Tree(2)\n",
    "right = Tree(3)\n",
    "tree = Tree(1, left, right)"
   ]
  },
  {
   "cell_type": "code",
   "execution_count": 21,
   "metadata": {
    "collapsed": true
   },
   "outputs": [],
   "source": [
    "def printTreePreOrder(tree):\n",
    "    if tree == None: return\n",
    "    print(tree.cargo)\n",
    "    printTreePreOrder(tree.left)\n",
    "    printTreePreOrder(tree.right)\n",
    "\n",
    "def printTreePostOrder(tree):\n",
    "    if tree == None: return\n",
    "    printTreePostOrder(tree.left)\n",
    "    printTreePostOrder(tree.right)\n",
    "    print(tree.cargo)\n",
    "\n",
    "def printTreeInOrder(tree):\n",
    "    if tree == None: return\n",
    "    printTreeInOrder(tree.left)\n",
    "    print(tree.cargo)\n",
    "    printTreeInOrder(tree.right)"
   ]
  },
  {
   "cell_type": "code",
   "execution_count": 22,
   "metadata": {
    "collapsed": false
   },
   "outputs": [
    {
     "name": "stdout",
     "output_type": "stream",
     "text": [
      "1\n",
      "2\n",
      "3\n",
      "\n",
      "2\n",
      "3\n",
      "1\n",
      "\n",
      "2\n",
      "1\n",
      "3\n"
     ]
    }
   ],
   "source": [
    "printTreePreOrder(tree)\n",
    "print()\n",
    "printTreePostOrder(tree)\n",
    "print()\n",
    "printTreeInOrder(tree)"
   ]
  },
  {
   "cell_type": "code",
   "execution_count": null,
   "metadata": {
    "collapsed": true
   },
   "outputs": [],
   "source": []
  }
 ],
 "metadata": {
  "kernelspec": {
   "display_name": "Python 3",
   "language": "python",
   "name": "python3"
  },
  "language_info": {
   "codemirror_mode": {
    "name": "ipython",
    "version": 3
   },
   "file_extension": ".py",
   "mimetype": "text/x-python",
   "name": "python",
   "nbconvert_exporter": "python",
   "pygments_lexer": "ipython3",
   "version": "3.6.1"
  }
 },
 "nbformat": 4,
 "nbformat_minor": 2
}
