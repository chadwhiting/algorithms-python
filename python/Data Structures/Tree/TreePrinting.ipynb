{
 "cells": [
  {
   "cell_type": "code",
   "execution_count": 4,
   "metadata": {
    "collapsed": true
   },
   "outputs": [],
   "source": [
    "def printTree(t):\n",
    "    stack = []\n",
    "    stack.append(t)\n",
    "    while stack:\n",
    "        current = stack.pop()\n",
    "        if current is not None:\n",
    "            print(current.key)\n",
    "            stack.append(current.left)\n",
    "            stack.append(current.sibling)"
   ]
  },
  {
   "cell_type": "code",
   "execution_count": 5,
   "metadata": {
    "collapsed": true
   },
   "outputs": [],
   "source": [
    "class Node:\n",
    "    def __init__(self, key, parent = None, left = None, sibling = None):\n",
    "        self.key = key\n",
    "        self.parent = parent\n",
    "        self.left = left\n",
    "        self.sibling = sibling"
   ]
  },
  {
   "cell_type": "code",
   "execution_count": 8,
   "metadata": {
    "collapsed": true
   },
   "outputs": [],
   "source": [
    "root = Node(18)\n",
    "root.left = Node(12)\n",
    "root.left.sibling = Node(10)\n",
    "root.left.left = Node(7)\n",
    "root.left.left.sibling = Node(4)\n",
    "root.left.left.sibling.left = Node(5)\n",
    "root.left.sibling.left = Node(2)\n",
    "root.left.sibling.left.sibling = Node(21)"
   ]
  },
  {
   "cell_type": "code",
   "execution_count": 9,
   "metadata": {
    "collapsed": false
   },
   "outputs": [
    {
     "name": "stdout",
     "output_type": "stream",
     "text": [
      "18\n",
      "12\n",
      "10\n",
      "2\n",
      "21\n",
      "7\n",
      "4\n",
      "5\n"
     ]
    }
   ],
   "source": [
    "printTree(root)"
   ]
  },
  {
   "cell_type": "code",
   "execution_count": null,
   "metadata": {
    "collapsed": true
   },
   "outputs": [],
   "source": []
  }
 ],
 "metadata": {
  "kernelspec": {
   "display_name": "Python 3",
   "language": "python",
   "name": "python3"
  },
  "language_info": {
   "codemirror_mode": {
    "name": "ipython",
    "version": 3
   },
   "file_extension": ".py",
   "mimetype": "text/x-python",
   "name": "python",
   "nbconvert_exporter": "python",
   "pygments_lexer": "ipython3",
   "version": "3.6.4"
  }
 },
 "nbformat": 4,
 "nbformat_minor": 2
}
