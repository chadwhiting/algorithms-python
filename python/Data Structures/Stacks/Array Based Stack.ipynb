{
 "cells": [
  {
   "cell_type": "code",
   "execution_count": 11,
   "metadata": {
    "collapsed": true
   },
   "outputs": [],
   "source": [
    "def isStackEmpty(top):\n",
    "    return top == -1\n",
    "\n",
    "def push(S, top, x):\n",
    "    top = top + 1\n",
    "    S.append(x)\n",
    "    \n",
    "def pop(S, top):\n",
    "    if isStackEmpty(top):\n",
    "        return \"error\"\n",
    "    top = top - 1\n",
    "    return S[top + 1]"
   ]
  },
  {
   "cell_type": "code",
   "execution_count": 13,
   "metadata": {
    "collapsed": false
   },
   "outputs": [
    {
     "name": "stdout",
     "output_type": "stream",
     "text": [
      "True\n",
      "True\n",
      "error\n",
      "error\n",
      "error\n"
     ]
    }
   ],
   "source": [
    "S = []\n",
    "\n",
    "print(isStackEmpty(top))\n",
    "push(S, top, 1)\n",
    "push(S, top, 2)\n",
    "print(isStackEmpty(top))\n",
    "print(pop(S, top))\n",
    "print(pop(S, top))\n",
    "print(pop(S, top))"
   ]
  },
  {
   "cell_type": "code",
   "execution_count": null,
   "metadata": {
    "collapsed": true
   },
   "outputs": [],
   "source": []
  }
 ],
 "metadata": {
  "kernelspec": {
   "display_name": "Python 3",
   "language": "python",
   "name": "python3"
  },
  "language_info": {
   "codemirror_mode": {
    "name": "ipython",
    "version": 3
   },
   "file_extension": ".py",
   "mimetype": "text/x-python",
   "name": "python",
   "nbconvert_exporter": "python",
   "pygments_lexer": "ipython3",
   "version": "3.6.1"
  }
 },
 "nbformat": 4,
 "nbformat_minor": 2
}
