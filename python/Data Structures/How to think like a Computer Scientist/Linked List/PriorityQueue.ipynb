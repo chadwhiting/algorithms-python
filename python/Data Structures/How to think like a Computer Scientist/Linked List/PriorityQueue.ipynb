{
 "cells": [
  {
   "cell_type": "code",
   "execution_count": 1,
   "metadata": {
    "collapsed": true
   },
   "outputs": [],
   "source": [
    "class Node:\n",
    "    def __init__(self, data = None, next = None):\n",
    "        self.data = data\n",
    "        self.next = next"
   ]
  },
  {
   "cell_type": "code",
   "execution_count": 31,
   "metadata": {
    "collapsed": true
   },
   "outputs": [],
   "source": [
    "class PriorityQueue:\n",
    "    def __init__(self):\n",
    "        self.items = []\n",
    "    \n",
    "    def insert(self, data):\n",
    "        self.items.append(data)\n",
    "    \n",
    "    def remove(self):\n",
    "        if self.isEmpty():\n",
    "            return None\n",
    "        maxi = 0\n",
    "        for i in range(1,len(self.items)):\n",
    "            if self.items[maxi] < self.items[i]:\n",
    "                maxi = i\n",
    "        result = self.items[maxi]\n",
    "        self.items[maxi:maxi+1] = []\n",
    "        return result\n",
    "        \n",
    "    def isEmpty(self):\n",
    "        return self.items == []"
   ]
  },
  {
   "cell_type": "code",
   "execution_count": 32,
   "metadata": {
    "collapsed": false
   },
   "outputs": [
    {
     "name": "stdout",
     "output_type": "stream",
     "text": [
      "gamma\n",
      "delta\n",
      "beta\n",
      "alpha\n"
     ]
    }
   ],
   "source": [
    "pq = PriorityQueue()\n",
    "pq.insert(\"alpha\")\n",
    "pq.insert(\"beta\")\n",
    "pq.insert(\"gamma\")\n",
    "pq.insert(\"delta\")\n",
    "while not pq.isEmpty():\n",
    "    print(pq.remove())"
   ]
  },
  {
   "cell_type": "code",
   "execution_count": null,
   "metadata": {
    "collapsed": true
   },
   "outputs": [],
   "source": []
  }
 ],
 "metadata": {
  "kernelspec": {
   "display_name": "Python 3",
   "language": "python",
   "name": "python3"
  },
  "language_info": {
   "codemirror_mode": {
    "name": "ipython",
    "version": 3
   },
   "file_extension": ".py",
   "mimetype": "text/x-python",
   "name": "python",
   "nbconvert_exporter": "python",
   "pygments_lexer": "ipython3",
   "version": "3.6.1"
  }
 },
 "nbformat": 4,
 "nbformat_minor": 2
}
