{
 "cells": [
  {
   "cell_type": "code",
   "execution_count": 10,
   "metadata": {
    "collapsed": true
   },
   "outputs": [],
   "source": [
    "class Node:\n",
    "    def __init__(self, data, next):\n",
    "        self.data = data\n",
    "        self.next = next\n",
    "        \n",
    "    def __str__(self):\n",
    "        return str(self.data)"
   ]
  },
  {
   "cell_type": "code",
   "execution_count": 11,
   "metadata": {
    "collapsed": true
   },
   "outputs": [],
   "source": [
    "class Stack:\n",
    "    def __init__(self):\n",
    "        self.head = None\n",
    "        self.length = 0\n",
    "    \n",
    "    def push(self, data):\n",
    "        node = Node(data, self.head)\n",
    "        self.head = node\n",
    "        self.length = self.length + 1\n",
    "    \n",
    "    def pop(self):\n",
    "        if not self.isEmpty():\n",
    "            data = self.head.data\n",
    "            self.head = self.head.next\n",
    "            self.length = self.length - 1\n",
    "            return data\n",
    "        return None\n",
    "    \n",
    "    def isEmpty(self):\n",
    "        return self.length == 0\n",
    "    \n",
    "    def size(self):\n",
    "        return self.length"
   ]
  },
  {
   "cell_type": "code",
   "execution_count": 12,
   "metadata": {
    "collapsed": false
   },
   "outputs": [
    {
     "name": "stdout",
     "output_type": "stream",
     "text": [
      "third\n",
      "second\n",
      "first\n"
     ]
    }
   ],
   "source": [
    "stack = Stack()\n",
    "stack.push(\"first\")\n",
    "stack.push(\"second\")\n",
    "stack.push(\"third\")\n",
    "while not stack.isEmpty():\n",
    "    print(stack.pop())"
   ]
  },
  {
   "cell_type": "code",
   "execution_count": null,
   "metadata": {
    "collapsed": true
   },
   "outputs": [],
   "source": []
  }
 ],
 "metadata": {
  "kernelspec": {
   "display_name": "Python 3",
   "language": "python",
   "name": "python3"
  },
  "language_info": {
   "codemirror_mode": {
    "name": "ipython",
    "version": 3
   },
   "file_extension": ".py",
   "mimetype": "text/x-python",
   "name": "python",
   "nbconvert_exporter": "python",
   "pygments_lexer": "ipython3",
   "version": "3.6.1"
  }
 },
 "nbformat": 4,
 "nbformat_minor": 2
}
