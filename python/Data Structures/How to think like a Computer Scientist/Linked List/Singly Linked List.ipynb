{
 "cells": [
  {
   "cell_type": "code",
   "execution_count": 10,
   "metadata": {
    "collapsed": true
   },
   "outputs": [],
   "source": [
    "class Node:\n",
    "    def __init__(self, data = None, next = None):\n",
    "        self.data = data\n",
    "        self.next = next\n",
    "    \n",
    "    def __str__(self):\n",
    "        return str(self.data)"
   ]
  },
  {
   "cell_type": "code",
   "execution_count": 57,
   "metadata": {
    "collapsed": true
   },
   "outputs": [],
   "source": [
    "class LinkedList:\n",
    "    \n",
    "    def __init__(self):\n",
    "        self.head = None\n",
    "    \n",
    "    def insert(self, node):\n",
    "        if not self.isEmpty():\n",
    "            cur = self.head\n",
    "            while cur.next is not None:\n",
    "                cur = cur.next\n",
    "            cur.next = node\n",
    "        else:\n",
    "            self.head = node\n",
    "    \n",
    "    def remove(self):\n",
    "        if not self.isEmpty():\n",
    "            data = self.head.data\n",
    "            self.head = self.head.next\n",
    "            return data\n",
    "        return None\n",
    "    \n",
    "    def isEmpty(self):\n",
    "        return self.head == None\n",
    "    \n",
    "    def printList(self):\n",
    "        cur = self.head\n",
    "        print(\"[\",end=\"\")\n",
    "        while cur:\n",
    "            print(cur,end=\"\")\n",
    "            if cur.next:\n",
    "                print(\",\",end=\"\")\n",
    "            cur = cur.next\n",
    "        print(\"]\")\n",
    "    \n",
    "    def printBackwards(self):\n",
    "        print(\"[\",end=\"\")\n",
    "        self._printBackwards(self.head)\n",
    "        print(\"]\")\n",
    "\n",
    "    def _printBackwards(self, node):\n",
    "        if node:\n",
    "            self._printBackwards(node.next)\n",
    "            if node.next:\n",
    "                print(\",\",end=\"\")\n",
    "            print(node,end=\"\")"
   ]
  },
  {
   "cell_type": "code",
   "execution_count": 58,
   "metadata": {
    "collapsed": false
   },
   "outputs": [
    {
     "name": "stdout",
     "output_type": "stream",
     "text": [
      "[first,second,third]\n",
      "\n",
      "[third,second,first]\n"
     ]
    }
   ],
   "source": [
    "myList = LinkedList()\n",
    "myList.insert(Node(\"first\"))\n",
    "myList.insert(Node(\"second\"))\n",
    "myList.insert(Node(\"third\"))\n",
    "myList.printList()\n",
    "print()\n",
    "myList.printBackwards()\n",
    "#while not myList.isEmpty():\n",
    "#    print(myList.remove())\n",
    "#print(myList.remove())"
   ]
  },
  {
   "cell_type": "code",
   "execution_count": null,
   "metadata": {
    "collapsed": true
   },
   "outputs": [],
   "source": []
  }
 ],
 "metadata": {
  "kernelspec": {
   "display_name": "Python 3",
   "language": "python",
   "name": "python3"
  },
  "language_info": {
   "codemirror_mode": {
    "name": "ipython",
    "version": 3
   },
   "file_extension": ".py",
   "mimetype": "text/x-python",
   "name": "python",
   "nbconvert_exporter": "python",
   "pygments_lexer": "ipython3",
   "version": "3.6.1"
  }
 },
 "nbformat": 4,
 "nbformat_minor": 2
}
