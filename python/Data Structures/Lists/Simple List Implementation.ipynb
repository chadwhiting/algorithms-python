{
 "cells": [
  {
   "cell_type": "code",
   "execution_count": 1,
   "metadata": {
    "collapsed": true,
    "deletable": true,
    "editable": true
   },
   "outputs": [],
   "source": [
    "class Node:\n",
    "    def __init__(self, data, prev = None, next = None):\n",
    "        self.data = data\n",
    "        self.prev = prev\n",
    "        self.next = next\n",
    "\n",
    "class List:\n",
    "    def __init__(self, head = None):\n",
    "        self.head = head"
   ]
  },
  {
   "cell_type": "code",
   "execution_count": 15,
   "metadata": {
    "collapsed": true,
    "deletable": true,
    "editable": true
   },
   "outputs": [],
   "source": [
    "def listSearch(L, k):\n",
    "    \"\"\"A simple linear search through a List L for a key k\"\"\"\n",
    "    cur = L.head\n",
    "    while cur is not None and cur.data != k.data:\n",
    "        cur = cur.next\n",
    "    return cur"
   ]
  },
  {
   "cell_type": "code",
   "execution_count": 3,
   "metadata": {
    "collapsed": true,
    "deletable": true,
    "editable": true
   },
   "outputs": [],
   "source": [
    "def insert(L, k):\n",
    "    if L.head is not None:\n",
    "        k.next = L.head\n",
    "        L.head.prev = k\n",
    "    L.head = k"
   ]
  },
  {
   "cell_type": "code",
   "execution_count": 21,
   "metadata": {
    "collapsed": true
   },
   "outputs": [],
   "source": [
    "def delete(L, k):\n",
    "    if k.prev is not None:\n",
    "        k.prev.next = k.next\n",
    "    else:\n",
    "        L.head = k.next\n",
    "    if k.next is not None:\n",
    "        k.next.prev = k.prev"
   ]
  },
  {
   "cell_type": "code",
   "execution_count": 4,
   "metadata": {
    "collapsed": true,
    "deletable": true,
    "editable": true
   },
   "outputs": [],
   "source": [
    "def printList(L):\n",
    "    cur = L.head\n",
    "    while cur is not None:\n",
    "        print(cur.data)\n",
    "        cur = cur.next"
   ]
  },
  {
   "cell_type": "code",
   "execution_count": 22,
   "metadata": {
    "collapsed": false,
    "deletable": true,
    "editable": true
   },
   "outputs": [
    {
     "name": "stdout",
     "output_type": "stream",
     "text": [
      "First\n",
      "Second\n",
      "First\n",
      "To delete:  Second\n",
      "First\n"
     ]
    }
   ],
   "source": [
    "myList = List(Node(\"First\"))\n",
    "printList(myList)\n",
    "\n",
    "insert(myList, Node(\"Second\"))\n",
    "printList(myList)\n",
    "\n",
    "nodeToDelete = listSearch(myList, Node(\"Second\"))\n",
    "print(\"To delete: \", nodeToDelete.data)\n",
    "\n",
    "delete(myList, nodeToDelete)\n",
    "printList(myList)"
   ]
  },
  {
   "cell_type": "code",
   "execution_count": null,
   "metadata": {
    "collapsed": true,
    "deletable": true,
    "editable": true
   },
   "outputs": [],
   "source": []
  }
 ],
 "metadata": {
  "kernelspec": {
   "display_name": "Python 3",
   "language": "python",
   "name": "python3"
  },
  "language_info": {
   "codemirror_mode": {
    "name": "ipython",
    "version": 3
   },
   "file_extension": ".py",
   "mimetype": "text/x-python",
   "name": "python",
   "nbconvert_exporter": "python",
   "pygments_lexer": "ipython3",
   "version": "3.6.1"
  }
 },
 "nbformat": 4,
 "nbformat_minor": 2
}
