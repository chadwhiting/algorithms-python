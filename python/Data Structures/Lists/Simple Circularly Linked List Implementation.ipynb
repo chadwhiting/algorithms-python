{
 "cells": [
  {
   "cell_type": "code",
   "execution_count": 25,
   "metadata": {
    "collapsed": false,
    "deletable": true,
    "editable": true
   },
   "outputs": [],
   "source": [
    "class Node:\n",
    "    def __init__(self, data, prev = None, next = None):\n",
    "        self.data = data\n",
    "        self.prev = prev\n",
    "        self.next = next\n",
    "\n",
    "class List:\n",
    "    def __init__(self):\n",
    "        self.head = Node(\"head\")\n",
    "        self.head.next = self.head\n",
    "        self.head.prev = self.head\n",
    "    \n",
    "    def find(self, k):\n",
    "        cur = self.head.next\n",
    "        while cur.data != \"head\" and cur.data != k.data:\n",
    "            cur = cur.next\n",
    "        return cur\n",
    "    \n",
    "    def insert(self, k):\n",
    "        k.prev = self.head\n",
    "        k.next = self.head.next\n",
    "        k.next.prev = k\n",
    "        self.head.next = k\n",
    "        \n",
    "    def print(self):\n",
    "        cur = self.head.next\n",
    "        while cur.data != \"head\":\n",
    "            print(cur.data, end=' ')\n",
    "            cur = cur.next\n",
    "        print()\n",
    "        \n",
    "    def delete(self, k):\n",
    "        k.prev.next = k.next\n",
    "        k.next.prev = k.prev"
   ]
  },
  {
   "cell_type": "code",
   "execution_count": 29,
   "metadata": {
    "collapsed": false,
    "deletable": true,
    "editable": true
   },
   "outputs": [
    {
     "name": "stdout",
     "output_type": "stream",
     "text": [
      "First \n",
      "Second First \n",
      "Third Second First \n",
      "Second First \n",
      "First \n",
      "\n"
     ]
    }
   ],
   "source": [
    "myList = List()\n",
    "\n",
    "myList.insert(Node(\"First\"))\n",
    "myList.print()\n",
    "myList.insert(Node(\"Second\"))\n",
    "myList.print()\n",
    "myList.insert(Node(\"Third\"))\n",
    "myList.print()\n",
    "myList.delete(myList.find(Node(\"Third\")))\n",
    "myList.print()\n",
    "myList.delete(myList.find(Node(\"Second\")))\n",
    "myList.print()\n",
    "myList.delete(myList.find(Node(\"First\")))\n",
    "myList.print()"
   ]
  },
  {
   "cell_type": "code",
   "execution_count": null,
   "metadata": {
    "collapsed": true,
    "deletable": true,
    "editable": true
   },
   "outputs": [],
   "source": []
  }
 ],
 "metadata": {
  "kernelspec": {
   "display_name": "Python 3",
   "language": "python",
   "name": "python3"
  },
  "language_info": {
   "codemirror_mode": {
    "name": "ipython",
    "version": 3
   },
   "file_extension": ".py",
   "mimetype": "text/x-python",
   "name": "python",
   "nbconvert_exporter": "python",
   "pygments_lexer": "ipython3",
   "version": "3.6.1"
  }
 },
 "nbformat": 4,
 "nbformat_minor": 2
}
