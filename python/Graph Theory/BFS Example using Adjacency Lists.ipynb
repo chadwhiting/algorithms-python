{
 "cells": [
  {
   "cell_type": "code",
   "execution_count": 73,
   "metadata": {
    "collapsed": true
   },
   "outputs": [],
   "source": [
    "import sys"
   ]
  },
  {
   "cell_type": "code",
   "execution_count": 76,
   "metadata": {
    "collapsed": true
   },
   "outputs": [],
   "source": [
    "class Vertex:\n",
    "    def __init__(self, name):\n",
    "        self.name = name\n",
    "        self.color = None\n",
    "        self.distance = sys.maxsize\n",
    "        self.parent = None\n",
    "    def __str__(self):\n",
    "        return self.name\n",
    "    def __eq__(self, other):\n",
    "        return self.name == other.name\n",
    "    def __hash__(self):\n",
    "        return hash(self.name)"
   ]
  },
  {
   "cell_type": "code",
   "execution_count": 39,
   "metadata": {
    "collapsed": true
   },
   "outputs": [],
   "source": [
    "class Edge:\n",
    "    def __init__(self, source, destination):\n",
    "        self.source = source\n",
    "        self.destination = destination\n",
    "    def getSource(self):\n",
    "        return self.source\n",
    "    def getDestination(self):\n",
    "        return self.destination\n",
    "    def __str__(self):\n",
    "        return str(self.source) + \"->\" + str(self.destination)"
   ]
  },
  {
   "cell_type": "code",
   "execution_count": 69,
   "metadata": {
    "collapsed": false
   },
   "outputs": [],
   "source": [
    "class Digraph:\n",
    "    def __init__(self):\n",
    "        self.vertices = set([])\n",
    "        self.edges = {}\n",
    "    def addVertex(self, vertex):\n",
    "        if vertex.name in self.vertices:\n",
    "            raise ValueError('Duplicate Vertex')\n",
    "        else:\n",
    "            self.vertices.add(vertex)\n",
    "            self.edges[vertex] = []\n",
    "    def addEdge(self, edge):\n",
    "        source = edge.getSource()\n",
    "        destination = edge.getDestination()\n",
    "        if not (source in self.vertices and destination in self.vertices):\n",
    "            raise ValueError('Vertex not in graph')\n",
    "        self.edges[source].append(destination)\n",
    "    def childrenOf(self, vertex):\n",
    "        return self.edges[vertex]\n",
    "    def hasVertex(self, vertex):\n",
    "        return vertex in self.vertices\n",
    "    def __str__(self):\n",
    "        res = ''\n",
    "        for k in self.edges:\n",
    "            for d in self.edges[k]:\n",
    "                res = res + str(k) + '->' + str(d) + '\\n'\n",
    "        return res[:-1]"
   ]
  },
  {
   "cell_type": "code",
   "execution_count": 45,
   "metadata": {
    "collapsed": false
   },
   "outputs": [
    {
     "name": "stdout",
     "output_type": "stream",
     "text": [
      "The graph:\n",
      "0->1\n",
      "0->2\n",
      "1->2\n",
      "1->1\n",
      "1->0\n",
      "2->3\n",
      "3->4\n",
      "3->5\n",
      "4->0\n"
     ]
    }
   ],
   "source": [
    "def createBasicDigraph():\n",
    "    vertices = []\n",
    "    for name in range(10):\n",
    "        vertices.append(Vertex(str(name)))\n",
    "    g = Digraph()\n",
    "    for n in vertices:\n",
    "        g.addVertex(n)\n",
    "    g.addEdge(Edge(vertices[0],vertices[1]))\n",
    "    g.addEdge(Edge(vertices[1],vertices[2]))\n",
    "    g.addEdge(Edge(vertices[2],vertices[3]))\n",
    "    g.addEdge(Edge(vertices[3],vertices[4]))\n",
    "    g.addEdge(Edge(vertices[3],vertices[5]))\n",
    "    g.addEdge(Edge(vertices[0],vertices[2]))\n",
    "    g.addEdge(Edge(vertices[1],vertices[1]))\n",
    "    g.addEdge(Edge(vertices[1],vertices[0]))\n",
    "    g.addEdge(Edge(vertices[4],vertices[0]))\n",
    "    return g\n",
    "\n",
    "def testDigraph():\n",
    "    g = createBasicDigraph()\n",
    "    print('The graph:')\n",
    "    print(g)\n",
    "\n",
    "testDigraph()"
   ]
  },
  {
   "cell_type": "code",
   "execution_count": 60,
   "metadata": {
    "collapsed": true
   },
   "outputs": [],
   "source": [
    "class Node:\n",
    "    def __init__(self, data = None, previous = None, next = None):\n",
    "        self.data = data\n",
    "        self.previous = previous\n",
    "        self.next = next\n",
    "    def __str__(self):\n",
    "        return str(self.data)"
   ]
  },
  {
   "cell_type": "code",
   "execution_count": 33,
   "metadata": {
    "collapsed": false
   },
   "outputs": [],
   "source": [
    "class Queue:\n",
    "    def __init__(self):\n",
    "        self.head = None\n",
    "        self.tail = None\n",
    "        self.length = 0\n",
    "        \n",
    "    def enqueue(self, data):\n",
    "        node = Node(data)\n",
    "        if not self.isEmpty():\n",
    "            self.tail.next = node\n",
    "            node.previous = self.tail\n",
    "            self.tail = node\n",
    "        else:\n",
    "            self.head = self.tail = node\n",
    "        self.length += 1\n",
    "    \n",
    "    def dequeue(self):\n",
    "        if self.isEmpty():\n",
    "            return None\n",
    "        else:\n",
    "            self.length -= 1\n",
    "            data = self.head.data\n",
    "            self.head = self.head.next\n",
    "            if not self.head:\n",
    "                self.tail = None\n",
    "            return data\n",
    "\n",
    "    def isEmpty(self):\n",
    "        return self.length == 0\n",
    "    \n",
    "    def size(self):\n",
    "        return self.length\n",
    "        \n",
    "    def __str__(self):\n",
    "        current = self.head\n",
    "        result = ''\n",
    "        while current:\n",
    "            result += str(current.data)\n",
    "            current = current.next\n",
    "            if current:\n",
    "                result += ' -> '\n",
    "        return result"
   ]
  },
  {
   "cell_type": "code",
   "execution_count": 35,
   "metadata": {
    "collapsed": false
   },
   "outputs": [],
   "source": [
    "def testQueue():\n",
    "    q = Queue()\n",
    "    for x in range(-10,11):\n",
    "        q.enqueue(x)\n",
    "\n",
    "    print(str(q))\n",
    "\n",
    "    result = q.dequeue()\n",
    "    while result is not None:\n",
    "        print(result, end = \" \")\n",
    "        result = q.dequeue()"
   ]
  },
  {
   "cell_type": "code",
   "execution_count": 36,
   "metadata": {
    "collapsed": false
   },
   "outputs": [
    {
     "name": "stdout",
     "output_type": "stream",
     "text": [
      "-10 -> -9 -> -8 -> -7 -> -6 -> -5 -> -4 -> -3 -> -2 -> -1 -> 0 -> 1 -> 2 -> 3 -> 4 -> 5 -> 6 -> 7 -> 8 -> 9 -> 10\n",
      "-10 -9 -8 -7 -6 -5 -4 -3 -2 -1 0 1 2 3 4 5 6 7 8 9 10 "
     ]
    }
   ],
   "source": [
    "testQueue()"
   ]
  },
  {
   "cell_type": "code",
   "execution_count": 102,
   "metadata": {
    "collapsed": true
   },
   "outputs": [],
   "source": [
    "def bfs(graph, source):\n",
    "    for vertex in graph.vertices:\n",
    "        if vertex != source:\n",
    "            vertex.color = \"white\"\n",
    "            vertex.distance = sys.maxsize\n",
    "            vertex.parent = None\n",
    "        else:\n",
    "            source = vertex\n",
    "            vertex.color = \"gray\"\n",
    "            vertex.distance = 0\n",
    "            vertex.parent = None\n",
    "    q = Queue()\n",
    "    q.enqueue(source)\n",
    "    while not q.isEmpty():\n",
    "        u = q.dequeue()\n",
    "        for vertex in graph.edges[u]:\n",
    "            if vertex.color == \"white\":\n",
    "                vertex.color = \"gray\"\n",
    "                vertex.distance = u.distance + 1\n",
    "                vertex.parent = u\n",
    "                q.enqueue(vertex)\n",
    "        u.color = \"black\"\n",
    "#    print(q)"
   ]
  },
  {
   "cell_type": "code",
   "execution_count": 103,
   "metadata": {
    "collapsed": false,
    "scrolled": true
   },
   "outputs": [
    {
     "name": "stdout",
     "output_type": "stream",
     "text": [
      "The graph:\n",
      "0->1\n",
      "0->2\n",
      "1->2\n",
      "1->1\n",
      "1->0\n",
      "2->3\n",
      "3->4\n",
      "3->5\n",
      "4->0\n",
      "0\n",
      "6 white 9223372036854775807 None\n",
      "3 black 2 2\n",
      "0 black 0 None\n",
      "5 black 3 3\n",
      "8 white 9223372036854775807 None\n",
      "2 black 1 0\n",
      "7 white 9223372036854775807 None\n",
      "4 black 3 3\n",
      "9 white 9223372036854775807 None\n",
      "1 black 1 0\n",
      "\n",
      "1\n",
      "6 white 9223372036854775807 None\n",
      "3 black 2 2\n",
      "0 black 1 1\n",
      "5 black 3 3\n",
      "8 white 9223372036854775807 None\n",
      "2 black 1 1\n",
      "7 white 9223372036854775807 None\n",
      "4 black 3 3\n",
      "9 white 9223372036854775807 None\n",
      "1 black 0 None\n",
      "\n",
      "2\n",
      "6 white 9223372036854775807 None\n",
      "3 black 1 2\n",
      "0 black 3 4\n",
      "5 black 2 3\n",
      "8 white 9223372036854775807 None\n",
      "2 black 0 None\n",
      "7 white 9223372036854775807 None\n",
      "4 black 2 3\n",
      "9 white 9223372036854775807 None\n",
      "1 black 4 0\n",
      "\n",
      "3\n",
      "6 white 9223372036854775807 None\n",
      "3 black 0 None\n",
      "0 black 2 4\n",
      "5 black 1 3\n",
      "8 white 9223372036854775807 None\n",
      "2 black 3 0\n",
      "7 white 9223372036854775807 None\n",
      "4 black 1 3\n",
      "9 white 9223372036854775807 None\n",
      "1 black 3 0\n",
      "\n",
      "4\n",
      "6 white 9223372036854775807 None\n",
      "3 black 3 2\n",
      "0 black 1 4\n",
      "5 black 4 3\n",
      "8 white 9223372036854775807 None\n",
      "2 black 2 0\n",
      "7 white 9223372036854775807 None\n",
      "4 black 0 None\n",
      "9 white 9223372036854775807 None\n",
      "1 black 2 0\n",
      "\n",
      "5\n",
      "6 white 9223372036854775807 None\n",
      "3 white 9223372036854775807 None\n",
      "0 white 9223372036854775807 None\n",
      "5 black 0 None\n",
      "8 white 9223372036854775807 None\n",
      "2 white 9223372036854775807 None\n",
      "7 white 9223372036854775807 None\n",
      "4 white 9223372036854775807 None\n",
      "9 white 9223372036854775807 None\n",
      "1 white 9223372036854775807 None\n",
      "\n",
      "6\n",
      "6 black 0 None\n",
      "3 white 9223372036854775807 None\n",
      "0 white 9223372036854775807 None\n",
      "5 white 9223372036854775807 None\n",
      "8 white 9223372036854775807 None\n",
      "2 white 9223372036854775807 None\n",
      "7 white 9223372036854775807 None\n",
      "4 white 9223372036854775807 None\n",
      "9 white 9223372036854775807 None\n",
      "1 white 9223372036854775807 None\n",
      "\n",
      "7\n",
      "6 white 9223372036854775807 None\n",
      "3 white 9223372036854775807 None\n",
      "0 white 9223372036854775807 None\n",
      "5 white 9223372036854775807 None\n",
      "8 white 9223372036854775807 None\n",
      "2 white 9223372036854775807 None\n",
      "7 black 0 None\n",
      "4 white 9223372036854775807 None\n",
      "9 white 9223372036854775807 None\n",
      "1 white 9223372036854775807 None\n",
      "\n",
      "8\n",
      "6 white 9223372036854775807 None\n",
      "3 white 9223372036854775807 None\n",
      "0 white 9223372036854775807 None\n",
      "5 white 9223372036854775807 None\n",
      "8 black 0 None\n",
      "2 white 9223372036854775807 None\n",
      "7 white 9223372036854775807 None\n",
      "4 white 9223372036854775807 None\n",
      "9 white 9223372036854775807 None\n",
      "1 white 9223372036854775807 None\n",
      "\n",
      "9\n",
      "6 white 9223372036854775807 None\n",
      "3 white 9223372036854775807 None\n",
      "0 white 9223372036854775807 None\n",
      "5 white 9223372036854775807 None\n",
      "8 white 9223372036854775807 None\n",
      "2 white 9223372036854775807 None\n",
      "7 white 9223372036854775807 None\n",
      "4 white 9223372036854775807 None\n",
      "9 black 0 None\n",
      "1 white 9223372036854775807 None\n",
      "\n"
     ]
    }
   ],
   "source": [
    "def testBfs(start):\n",
    "    graph = createBasicDigraph()\n",
    "    bfs(graph, Vertex(start))\n",
    "    for vertex in graph.vertices:\n",
    "        print(vertex.name, vertex.color, vertex.distance, vertex.parent)\n",
    "        \n",
    "testDigraph()\n",
    "for n in range(10):\n",
    "    print(n)\n",
    "    testBfs(str(n))\n",
    "    print()"
   ]
  },
  {
   "cell_type": "code",
   "execution_count": null,
   "metadata": {
    "collapsed": true
   },
   "outputs": [],
   "source": []
  }
 ],
 "metadata": {
  "kernelspec": {
   "display_name": "Python 3",
   "language": "python",
   "name": "python3"
  },
  "language_info": {
   "codemirror_mode": {
    "name": "ipython",
    "version": 3
   },
   "file_extension": ".py",
   "mimetype": "text/x-python",
   "name": "python",
   "nbconvert_exporter": "python",
   "pygments_lexer": "ipython3",
   "version": "3.6.1"
  }
 },
 "nbformat": 4,
 "nbformat_minor": 2
}
