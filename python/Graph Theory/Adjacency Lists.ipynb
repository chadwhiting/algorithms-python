{
 "cells": [
  {
   "cell_type": "code",
   "execution_count": 2,
   "metadata": {
    "collapsed": true
   },
   "outputs": [],
   "source": [
    "class Vertex:\n",
    "    def __init__(self, name):\n",
    "        self.name = name\n",
    "    def getName(self):\n",
    "        return self.name\n",
    "    def __str__(self):\n",
    "        return self.name"
   ]
  },
  {
   "cell_type": "code",
   "execution_count": 9,
   "metadata": {
    "collapsed": true
   },
   "outputs": [],
   "source": [
    "class Edge:\n",
    "    def __init__(self, src, dst, weight = 0):\n",
    "        self.src = src\n",
    "        self.dst = dst\n",
    "        self.weight = weight\n",
    "    def getSrc(self):\n",
    "        return self.src\n",
    "    def getDst(self):\n",
    "        return self.dst\n",
    "    def getWeight(self):\n",
    "        return self.weight\n",
    "    def __str__(self):\n",
    "        return str(self.src) + \"->\" + str(self.dst)"
   ]
  },
  {
   "cell_type": "code",
   "execution_count": 5,
   "metadata": {
    "collapsed": true
   },
   "outputs": [],
   "source": [
    "class Digraph:\n",
    "    def __init__(self):\n",
    "        self.vertices = set([])\n",
    "        self.edges = {}\n",
    "    def addVertex(self, vertex):\n",
    "        if vertex.getName() in self.vertices:\n",
    "            raise ValueError('Duplicate Vertex')\n",
    "        else:\n",
    "            self.vertices.add(vertex)\n",
    "            self.edges[vertex] = []\n",
    "    def addEdge(self, edge):\n",
    "        src = edge.getSrc()\n",
    "        dst = edge.getDst()\n",
    "        if not(src in self.vertices and dst in self.vertices):\n",
    "            raise ValueError('Vertex not in graph')\n",
    "        self.edges[src].append(dst)\n",
    "    def childrenOf(self, vertex):\n",
    "        return self.edges[vertex]\n",
    "    def hasVertex(self, vertex):\n",
    "        return vertex in self.vertices\n",
    "    def __str__(self):\n",
    "        res = ''\n",
    "        for k in self.edges:\n",
    "            for d in self.edges[k]:\n",
    "                res = res + str(k) + '->' + str(d) + '\\n'\n",
    "        return res[:-1]"
   ]
  },
  {
   "cell_type": "code",
   "execution_count": 6,
   "metadata": {
    "collapsed": true
   },
   "outputs": [],
   "source": [
    "class Graph(Digraph):\n",
    "    def addEdge(self, edge):\n",
    "        Digraph.addEdge(self, edge)\n",
    "        rev = Edge(edge.getDestination(), edge.getSource())\n",
    "        Digraph.addEdge(self, rev)"
   ]
  },
  {
   "cell_type": "code",
   "execution_count": 10,
   "metadata": {
    "collapsed": false
   },
   "outputs": [
    {
     "name": "stdout",
     "output_type": "stream",
     "text": [
      "The graph:\n",
      "0->1\n",
      "0->2\n",
      "1->2\n",
      "1->1\n",
      "1->0\n",
      "2->3\n",
      "3->4\n",
      "3->5\n",
      "4->0\n"
     ]
    }
   ],
   "source": [
    "def test1(kind):\n",
    "    vertices = []\n",
    "    for name in range(10):\n",
    "        vertices.append(Vertex(str(name)))\n",
    "    g = kind()\n",
    "    for n in vertices:\n",
    "        g.addVertex(n)\n",
    "    g.addEdge(Edge(vertices[0],vertices[1]))\n",
    "    g.addEdge(Edge(vertices[1],vertices[2]))\n",
    "    g.addEdge(Edge(vertices[2],vertices[3]))\n",
    "    g.addEdge(Edge(vertices[3],vertices[4]))\n",
    "    g.addEdge(Edge(vertices[3],vertices[5]))\n",
    "    g.addEdge(Edge(vertices[0],vertices[2]))\n",
    "    g.addEdge(Edge(vertices[1],vertices[1]))\n",
    "    g.addEdge(Edge(vertices[1],vertices[0]))\n",
    "    g.addEdge(Edge(vertices[4],vertices[0]))\n",
    "    print('The graph:')\n",
    "    print(g)\n",
    "\n",
    "test1(Digraph)\n",
    "##test1(Graph)"
   ]
  },
  {
   "cell_type": "code",
   "execution_count": null,
   "metadata": {
    "collapsed": true
   },
   "outputs": [],
   "source": []
  }
 ],
 "metadata": {
  "kernelspec": {
   "display_name": "Python 3",
   "language": "python",
   "name": "python3"
  },
  "language_info": {
   "codemirror_mode": {
    "name": "ipython",
    "version": 3
   },
   "file_extension": ".py",
   "mimetype": "text/x-python",
   "name": "python",
   "nbconvert_exporter": "python",
   "pygments_lexer": "ipython3",
   "version": "3.6.1"
  }
 },
 "nbformat": 4,
 "nbformat_minor": 2
}
