{
 "cells": [
  {
   "cell_type": "code",
   "execution_count": 13,
   "metadata": {
    "collapsed": false
   },
   "outputs": [],
   "source": [
    "def hanoi(source, target, auxiliary, n):\n",
    "    if n > 0:\n",
    "        hanoi(source, auxiliary, target, n - 1)\n",
    "        target.append(source.pop())\n",
    "        hanoi(auxiliary, target, source, n - 1)\n",
    "    return source, target, auxiliary"
   ]
  },
  {
   "cell_type": "code",
   "execution_count": 15,
   "metadata": {
    "collapsed": false
   },
   "outputs": [
    {
     "name": "stdout",
     "output_type": "stream",
     "text": [
      "([], [5, 4, 3, 2, 1], [])\n"
     ]
    }
   ],
   "source": [
    "A = [5, 4, 3, 2, 1]\n",
    "B = []\n",
    "C = []\n",
    "print(hanoi(A, C, B, len(A)))"
   ]
  },
  {
   "cell_type": "code",
   "execution_count": null,
   "metadata": {
    "collapsed": true
   },
   "outputs": [],
   "source": []
  }
 ],
 "metadata": {
  "kernelspec": {
   "display_name": "Python 3",
   "language": "python",
   "name": "python3"
  },
  "language_info": {
   "codemirror_mode": {
    "name": "ipython",
    "version": 3
   },
   "file_extension": ".py",
   "mimetype": "text/x-python",
   "name": "python",
   "nbconvert_exporter": "python",
   "pygments_lexer": "ipython3",
   "version": "3.6.1"
  }
 },
 "nbformat": 4,
 "nbformat_minor": 2
}
