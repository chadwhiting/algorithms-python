{
 "cells": [
  {
   "cell_type": "code",
   "execution_count": 3,
   "metadata": {
    "collapsed": false
   },
   "outputs": [
    {
     "name": "stdout",
     "output_type": "stream",
     "text": [
      "Enter a number: 2\n",
      "Enter a power: 4\n",
      "Result: 16\n"
     ]
    }
   ],
   "source": [
    "def exp(b, n):\n",
    "    if n == 0:\n",
    "        return 1\n",
    "    else:\n",
    "        return b * exp(b, n - 1)\n",
    "\n",
    "b, n = int(input('Enter a number: ').strip()), int(input('Enter a power: ').strip())\n",
    "print('Result:',exp(b, n))"
   ]
  }
 ],
 "metadata": {
  "kernelspec": {
   "display_name": "Python 3",
   "language": "python",
   "name": "python3"
  },
  "language_info": {
   "codemirror_mode": {
    "name": "ipython",
    "version": 3
   },
   "file_extension": ".py",
   "mimetype": "text/x-python",
   "name": "python",
   "nbconvert_exporter": "python",
   "pygments_lexer": "ipython3",
   "version": "3.6.1"
  }
 },
 "nbformat": 4,
 "nbformat_minor": 2
}
