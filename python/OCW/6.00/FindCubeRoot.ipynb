{
 "cells": [
  {
   "cell_type": "code",
   "execution_count": 4,
   "metadata": {
    "collapsed": false,
    "deletable": true,
    "editable": true
   },
   "outputs": [
    {
     "name": "stdout",
     "output_type": "stream",
     "text": [
      "Enter an integer27\n",
      "Cube root of 27 is 3\n"
     ]
    }
   ],
   "source": [
    "x = int(input(\"Enter an integer: \").strip())\n",
    "ans = 0\n",
    "while ans*ans*ans < abs(x):\n",
    "    ans = ans + 1\n",
    "if ans*ans*ans != abs(x):\n",
    "    print(x, \"is not a perfect cube\")\n",
    "else:\n",
    "    if x < 0:\n",
    "        ans = -ans\n",
    "    print(\"Cube root of\", str(x), \"is\", str(ans))"
   ]
  },
  {
   "cell_type": "code",
   "execution_count": 6,
   "metadata": {
    "collapsed": false,
    "deletable": true,
    "editable": true
   },
   "outputs": [
    {
     "name": "stdout",
     "output_type": "stream",
     "text": [
      "Enter an integer: 27\n",
      "Cube root of 27 is 3\n"
     ]
    }
   ],
   "source": [
    "x = int(input(\"Enter an integer: \").strip())\n",
    "for ans in range(0, abs(x)+1):\n",
    "    if ans**3 == abs(x):\n",
    "        break\n",
    "if ans**3 != abs(x):\n",
    "    print(x, \"is not a perfect cube\")\n",
    "else:\n",
    "    if x < 0:\n",
    "        ans = -ans\n",
    "    print(\"Cube root of\", str(x), \"is\", str(ans))"
   ]
  },
  {
   "cell_type": "code",
   "execution_count": null,
   "metadata": {
    "collapsed": true,
    "deletable": true,
    "editable": true
   },
   "outputs": [],
   "source": []
  }
 ],
 "metadata": {
  "kernelspec": {
   "display_name": "Python 3",
   "language": "python",
   "name": "python3"
  },
  "language_info": {
   "codemirror_mode": {
    "name": "ipython",
    "version": 3
   },
   "file_extension": ".py",
   "mimetype": "text/x-python",
   "name": "python",
   "nbconvert_exporter": "python",
   "pygments_lexer": "ipython3",
   "version": "3.6.1"
  }
 },
 "nbformat": 4,
 "nbformat_minor": 2
}
