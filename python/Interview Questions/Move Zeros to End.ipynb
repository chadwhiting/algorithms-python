{
 "cells": [
  {
   "cell_type": "code",
   "execution_count": 2,
   "metadata": {
    "collapsed": false
   },
   "outputs": [],
   "source": [
    "# Solution 1\n",
    "\n",
    "def moveZerosToEnd(a):\n",
    "    count = 0\n",
    "    for i in range(len(a)):\n",
    "        if a[i] != 0:\n",
    "            a[count] = a[i]\n",
    "            count += 1\n",
    "    \n",
    "    for i in range(count, len(a)):\n",
    "        a[i] = 0\n",
    "    \n",
    "    return count"
   ]
  },
  {
   "cell_type": "code",
   "execution_count": 14,
   "metadata": {
    "collapsed": true
   },
   "outputs": [],
   "source": [
    "# Solution 2\n",
    "def swap(a, i, j):\n",
    "    first = a[i]\n",
    "    a[i] = a[j]\n",
    "    a[j] = first\n",
    "        \n",
    "def moveZerosToEnd2(a):\n",
    "    n = len(a)\n",
    "    indexOfLastNonZero = n - 1\n",
    "    for i in range(n):\n",
    "        if a[i] == 0 and i < indexOfLastNonZero:\n",
    "            while indexOfLastNonZero > i and a[indexOfLastNonZero] == 0:\n",
    "                indexOfLastNonZero = indexOfLastNonZero - 1\n",
    "            swap(a, i, indexOfLastNonZero)\n",
    "    return indexOfLastNonZero"
   ]
  },
  {
   "cell_type": "code",
   "execution_count": 3,
   "metadata": {
    "collapsed": false
   },
   "outputs": [
    {
     "name": "stdout",
     "output_type": "stream",
     "text": [
      "3\n",
      "[1, -1, 2, 0, 0]\n"
     ]
    }
   ],
   "source": [
    "a = [1, 0, -1, 2, 0]\n",
    "print(moveZerosToEnd(a))\n",
    "print(a)"
   ]
  },
  {
   "cell_type": "code",
   "execution_count": 18,
   "metadata": {
    "collapsed": false
   },
   "outputs": [
    {
     "name": "stdout",
     "output_type": "stream",
     "text": [
      "0\n",
      "[1]\n"
     ]
    }
   ],
   "source": [
    "a = [1, 0, -1, 2, 0]\n",
    "b = [0, 0, 0]\n",
    "c = [1]\n",
    "print(moveZerosToEnd2(c))\n",
    "print(c)"
   ]
  },
  {
   "cell_type": "code",
   "execution_count": null,
   "metadata": {
    "collapsed": true
   },
   "outputs": [],
   "source": []
  }
 ],
 "metadata": {
  "kernelspec": {
   "display_name": "Python 3",
   "language": "python",
   "name": "python3"
  },
  "language_info": {
   "codemirror_mode": {
    "name": "ipython",
    "version": 3
   },
   "file_extension": ".py",
   "mimetype": "text/x-python",
   "name": "python",
   "nbconvert_exporter": "python",
   "pygments_lexer": "ipython3",
   "version": "3.6.1"
  }
 },
 "nbformat": 4,
 "nbformat_minor": 2
}
