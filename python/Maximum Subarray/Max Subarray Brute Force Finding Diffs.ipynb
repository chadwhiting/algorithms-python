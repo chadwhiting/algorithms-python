{
 "cells": [
  {
   "cell_type": "code",
   "execution_count": 12,
   "metadata": {
    "collapsed": false
   },
   "outputs": [],
   "source": [
    "from sys import maxsize\n",
    "\n",
    "def findMaxSubarrayBruteForce(arr):\n",
    "    maxSoFar, maxStart, maxEnd = -sys.maxsize - 1, 0, 0\n",
    "    for i in range(len(arr)-1):\n",
    "        for j in range(i+1, len(arr)):\n",
    "            diff = arr[j] - arr[i]\n",
    "            if diff > maxSoFar:\n",
    "                maxSoFar = diff\n",
    "                maxStart = i\n",
    "                maxEnd = j\n",
    "    return (maxSoFar, maxStart, maxEnd)"
   ]
  },
  {
   "cell_type": "code",
   "execution_count": 13,
   "metadata": {
    "collapsed": false
   },
   "outputs": [
    {
     "data": {
      "text/plain": [
       "(43, 7, 11)"
      ]
     },
     "execution_count": 13,
     "metadata": {},
     "output_type": "execute_result"
    }
   ],
   "source": [
    "findMaxSubarrayBruteForce([100, 113, 110, 85, 105, 102, 86, 63, 81, 101, 94, 106, 101, 79])"
   ]
  },
  {
   "cell_type": "code",
   "execution_count": null,
   "metadata": {
    "collapsed": true
   },
   "outputs": [],
   "source": []
  }
 ],
 "metadata": {
  "kernelspec": {
   "display_name": "Python 3",
   "language": "python",
   "name": "python3"
  },
  "language_info": {
   "codemirror_mode": {
    "name": "ipython",
    "version": 3
   },
   "file_extension": ".py",
   "mimetype": "text/x-python",
   "name": "python",
   "nbconvert_exporter": "python",
   "pygments_lexer": "ipython3",
   "version": "3.6.4"
  }
 },
 "nbformat": 4,
 "nbformat_minor": 2
}
