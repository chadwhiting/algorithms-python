{
 "cells": [
  {
   "cell_type": "code",
   "execution_count": 3,
   "metadata": {
    "collapsed": true
   },
   "outputs": [],
   "source": [
    "def findMaximumSubarray(a):\n",
    "    maxSum = 0\n",
    "    loIndex = -1\n",
    "    hiIndex = -1\n",
    "    \n",
    "    for i in range(0, len(a) - 1):\n",
    "        maxSoFar = 0\n",
    "        for j in range(i, len(a) - 1):\n",
    "            maxSoFar = maxSoFar + a[j]\n",
    "            if maxSoFar > maxSum:\n",
    "                maxSum = maxSoFar\n",
    "                loIndex = i\n",
    "                hiIndex = j\n",
    "    \n",
    "    return (maxSum, loIndex, hiIndex)"
   ]
  },
  {
   "cell_type": "code",
   "execution_count": 4,
   "metadata": {
    "collapsed": false
   },
   "outputs": [
    {
     "data": {
      "text/plain": [
       "(43, 7, 10)"
      ]
     },
     "execution_count": 4,
     "metadata": {},
     "output_type": "execute_result"
    }
   ],
   "source": [
    "findMaximumSubarray([13, -3, -25, 20, -3, -16, -23, 18, 20, -7, 12, -5, -22, 15, -4, 7])"
   ]
  },
  {
   "cell_type": "code",
   "execution_count": null,
   "metadata": {
    "collapsed": true
   },
   "outputs": [],
   "source": []
  }
 ],
 "metadata": {
  "kernelspec": {
   "display_name": "Python 3",
   "language": "python",
   "name": "python3"
  },
  "language_info": {
   "codemirror_mode": {
    "name": "ipython",
    "version": 3
   },
   "file_extension": ".py",
   "mimetype": "text/x-python",
   "name": "python",
   "nbconvert_exporter": "python",
   "pygments_lexer": "ipython3",
   "version": "3.6.1"
  }
 },
 "nbformat": 4,
 "nbformat_minor": 2
}
