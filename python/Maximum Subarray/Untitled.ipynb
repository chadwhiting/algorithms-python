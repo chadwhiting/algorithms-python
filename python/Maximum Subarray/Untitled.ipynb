{
 "cells": [
  {
   "cell_type": "code",
   "execution_count": 4,
   "metadata": {
    "collapsed": true
   },
   "outputs": [],
   "source": [
    "import sys\n",
    "\n",
    "def findMaxCrossingSubArray(A, lo, mid, hi):    \n",
    "    maxSumLeft, maxSumRight, sumLeft, sumRight = -sys.maxsize, -sys.maxsize, 0, 0\n",
    "    for i in range(mid, lo - 1, -1):\n",
    "        sumLeft = sumLeft + A[i]\n",
    "        if maxSumLeft < sumLeft:\n",
    "            maxSumLeft = sumLeft\n",
    "    for i in range(mid + 1, hi):\n",
    "        sumRight = sumRight + A[i]\n",
    "        if maxSumRight < sumRight:\n",
    "            maxSumRight = sumRight\n",
    "    totalSum = maxSumLeft + maxSumRight\n",
    "    if totalSum >= maxSumLeft and totalSum >= maxSumRight:\n",
    "        return totalSum\n",
    "    elif maxSumLeft >= totalSum and maxSumLeft >= maxSumRight:\n",
    "        return maxSumLeft\n",
    "    else:\n",
    "        return maxSumRight"
   ]
  },
  {
   "cell_type": "code",
   "execution_count": 2,
   "metadata": {
    "collapsed": true
   },
   "outputs": [],
   "source": [
    "from math import floor\n",
    "import sys\n",
    "\n",
    "def findMaxSubarray(A, lo, hi):\n",
    "    if lo == hi:\n",
    "        return -sys.maxsize\n",
    "    else:\n",
    "        mid = int(floor((lo + hi)/2))\n",
    "        leftSum = findMaxSubarray(A, lo, mid)\n",
    "        rightSum = findMaxSubarray(A, mid + 1, hi)\n",
    "        crossSum = findMaxCrossingSubArray(A, lo, mid, hi)\n",
    "        if leftSum >= rightSum and leftSum >= crossSum:\n",
    "            return leftSum\n",
    "        elif rightSum >= crossSum and rightSum >= leftSum:\n",
    "            return rightSum\n",
    "        else:\n",
    "            return crossSum"
   ]
  },
  {
   "cell_type": "code",
   "execution_count": 8,
   "metadata": {
    "collapsed": false
   },
   "outputs": [
    {
     "name": "stdout",
     "output_type": "stream",
     "text": [
      "-1\n"
     ]
    }
   ],
   "source": [
    "A = [1, 2, 3, 4]\n",
    "B = [2, -1, 2, 3, 4, -5]\n",
    "C = [-5, -4, -3, -2, -1]\n",
    "print(findMaxSubarray(C, 0, len(C)))"
   ]
  },
  {
   "cell_type": "code",
   "execution_count": null,
   "metadata": {
    "collapsed": true
   },
   "outputs": [],
   "source": []
  }
 ],
 "metadata": {
  "kernelspec": {
   "display_name": "Python 3",
   "language": "python",
   "name": "python3"
  },
  "language_info": {
   "codemirror_mode": {
    "name": "ipython",
    "version": 3
   },
   "file_extension": ".py",
   "mimetype": "text/x-python",
   "name": "python",
   "nbconvert_exporter": "python",
   "pygments_lexer": "ipython3",
   "version": "3.6.1"
  }
 },
 "nbformat": 4,
 "nbformat_minor": 2
}
