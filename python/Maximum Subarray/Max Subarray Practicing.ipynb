{
 "cells": [
  {
   "cell_type": "code",
   "execution_count": 20,
   "metadata": {
    "collapsed": true
   },
   "outputs": [],
   "source": [
    "def findMaxCrossingSubArray(A, lo, mid, hi):    \n",
    "    maxLeft, maxRight = mid, mid + 1\n",
    "    maxSumLeft, maxSumRight, sumLeft, sumRight = 0, 0, 0, 0\n",
    "    for i in range(mid, lo, -1):\n",
    "        sumLeft = sumLeft + A[i]\n",
    "        if maxSumLeft < sumLeft:\n",
    "            maxSumLeft = sumLeft\n",
    "            maxLeft = i\n",
    "    for i in range(mid + 1, hi):\n",
    "        sumRight = sumRight + A[i]\n",
    "        if maxSumRight < sumRight:\n",
    "            maxSumRight = sumRight\n",
    "            maxRight = i\n",
    "    return (maxLeft, maxRight, maxSumLeft + maxSumRight)"
   ]
  },
  {
   "cell_type": "code",
   "execution_count": 41,
   "metadata": {
    "collapsed": false
   },
   "outputs": [],
   "source": [
    "from math import floor\n",
    "\n",
    "def findMaxSubarray(A, lo, hi):\n",
    "    if lo == hi:\n",
    "        return (lo, hi, 0)\n",
    "    else:\n",
    "        mid = int(floor((lo + hi)/2))\n",
    "        leftLo, leftHi, leftSum = findMaxSubarray(A, lo, mid)\n",
    "        rightLo, rightHi, rightSum = findMaxSubarray(A, mid + 1, hi)\n",
    "        crossLo, crossHi, crossSum = findMaxCrossingSubArray(A, lo, mid, hi)\n",
    "        if leftSum >= rightSum and leftSum >= crossSum:\n",
    "            return (leftLo, leftHi, leftSum)\n",
    "        elif rightSum >= crossSum and rightSum >= leftSum:\n",
    "            return (rightLo, rightHi, rightSum)\n",
    "        else:\n",
    "            return (crossLo, crossHi, crossSum)"
   ]
  },
  {
   "cell_type": "code",
   "execution_count": 42,
   "metadata": {
    "collapsed": false
   },
   "outputs": [
    {
     "name": "stdout",
     "output_type": "stream",
     "text": [
      "(7, 10, 43)\n",
      "(7, 10, 43)\n"
     ]
    }
   ],
   "source": [
    "A = [13, -3, -25, 20, -3, -16, -23, 18, 20, -7, 12, -5, -22, 15, -4, 7]\n",
    "print(findMaxCrossingSubArray(A, 0, (int)((0 + len(A))/2), len(A)))\n",
    "print(findMaxSubarray(A, 0, len(A)))"
   ]
  },
  {
   "cell_type": "code",
   "execution_count": null,
   "metadata": {
    "collapsed": true
   },
   "outputs": [],
   "source": []
  }
 ],
 "metadata": {
  "kernelspec": {
   "display_name": "Python 3",
   "language": "python",
   "name": "python3"
  },
  "language_info": {
   "codemirror_mode": {
    "name": "ipython",
    "version": 3
   },
   "file_extension": ".py",
   "mimetype": "text/x-python",
   "name": "python",
   "nbconvert_exporter": "python",
   "pygments_lexer": "ipython3",
   "version": "3.6.1"
  }
 },
 "nbformat": 4,
 "nbformat_minor": 2
}
