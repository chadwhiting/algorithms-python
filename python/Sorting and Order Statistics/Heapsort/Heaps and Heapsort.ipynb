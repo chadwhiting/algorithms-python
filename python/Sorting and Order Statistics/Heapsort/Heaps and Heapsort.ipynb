{
 "cells": [
  {
   "cell_type": "code",
   "execution_count": 37,
   "metadata": {
    "collapsed": true
   },
   "outputs": [],
   "source": [
    "import math\n",
    "\n",
    "'''\n",
    "Functions used to find location within a heap\n",
    "For heap sort we use max-heaps\n",
    "A max heap maintains the propety A[parent(i)] >= A[i]\n",
    "Or, the value of a node is at most the value of its parent\n",
    "'''\n",
    "\n",
    "def parent(i):\n",
    "    return math.floor((i+1)/2)-1\n",
    "\n",
    "def left(i):\n",
    "    return 2*(i+1)-1\n",
    "\n",
    "def right(i):\n",
    "    return 2*(i+1)\n",
    "\n",
    "def swap(a, i, j):\n",
    "    temp = a[i]\n",
    "    a[i] = a[j]\n",
    "    a[j] = temp"
   ]
  },
  {
   "cell_type": "code",
   "execution_count": 38,
   "metadata": {
    "collapsed": true
   },
   "outputs": [],
   "source": [
    "def maxHeapify(a, i, heapSize):\n",
    "    l = left(i)\n",
    "    r = right(i)\n",
    "    if l <= heapSize and a[l] > a[i]:\n",
    "        largest = l\n",
    "    else:\n",
    "        largest = i\n",
    "    if r <= heapSize and a[r] > a[largest]:\n",
    "        largest = r\n",
    "    if largest != i:\n",
    "        swap(i, largest)\n",
    "        maxHeapify(a, largest, heapSize)"
   ]
  },
  {
   "cell_type": "code",
   "execution_count": null,
   "metadata": {
    "collapsed": true
   },
   "outputs": [],
   "source": [
    "maxHeapify(a, 1, 10)\n",
    "print(a)"
   ]
  }
 ],
 "metadata": {
  "kernelspec": {
   "display_name": "Python 3",
   "language": "python",
   "name": "python3"
  },
  "language_info": {
   "codemirror_mode": {
    "name": "ipython",
    "version": 3
   },
   "file_extension": ".py",
   "mimetype": "text/x-python",
   "name": "python",
   "nbconvert_exporter": "python",
   "pygments_lexer": "ipython3",
   "version": "3.6.4"
  }
 },
 "nbformat": 4,
 "nbformat_minor": 2
}
