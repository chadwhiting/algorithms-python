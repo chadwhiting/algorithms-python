{
 "cells": [
  {
   "cell_type": "code",
   "execution_count": 3,
   "metadata": {
    "collapsed": true,
    "deletable": true,
    "editable": true
   },
   "outputs": [],
   "source": [
    "import math\n",
    "\n",
    "'''\n",
    "Functions used to find location within a heap\n",
    "For heap sort we use max-heaps\n",
    "A max heap maintains the propety A[parent(i)] >= A[i]\n",
    "Or, the value of a node is at most the value of its parent\n",
    "'''\n",
    "\n",
    "def parent(i):\n",
    "    return math.floor((i+1)/2)-1\n",
    "\n",
    "def left(i):\n",
    "    return 2*(i+1)-1\n",
    "\n",
    "def right(i):\n",
    "    return 2*(i+1)\n",
    "\n",
    "def swap(a, i, j):\n",
    "    temp = a[i]\n",
    "    a[i] = a[j]\n",
    "    a[j] = temp"
   ]
  },
  {
   "cell_type": "code",
   "execution_count": 9,
   "metadata": {
    "collapsed": true,
    "deletable": true,
    "editable": true
   },
   "outputs": [],
   "source": [
    "def maxHeapify(a, i, heapSize):\n",
    "    l = left(i)\n",
    "    r = right(i)\n",
    "    if l <= heapSize and a[l] > a[i]:\n",
    "        largest = l\n",
    "    else:\n",
    "        largest = i\n",
    "    if r < heapSize and a[r] > a[largest]:\n",
    "        largest = r\n",
    "    if largest != i:\n",
    "        swap(a, i, largest)\n",
    "        maxHeapify(a, largest, heapSize)"
   ]
  },
  {
   "cell_type": "code",
   "execution_count": 12,
   "metadata": {
    "collapsed": false,
    "deletable": true,
    "editable": true
   },
   "outputs": [
    {
     "name": "stdout",
     "output_type": "stream",
     "text": [
      "[16, 4, 10, 14, 7, 9, 3, 2, 8, 1]\n",
      "[16, 14, 10, 8, 7, 9, 3, 2, 4, 1]\n"
     ]
    }
   ],
   "source": [
    "a = [16, 4, 10, 14, 7, 9, 3, 2, 8, 1]\n",
    "print(a)\n",
    "maxHeapify(a, 1, 10)\n",
    "print(a)"
   ]
  },
  {
   "cell_type": "code",
   "execution_count": 19,
   "metadata": {
    "collapsed": true,
    "deletable": true,
    "editable": true
   },
   "outputs": [],
   "source": [
    "import math\n",
    "\n",
    "def buildMaxHeap(a):\n",
    "    for i in range(math.floor(len(a)/2), -1, -1):\n",
    "        maxHeapify(a, i, len(a))\n",
    "    return a"
   ]
  },
  {
   "cell_type": "code",
   "execution_count": 20,
   "metadata": {
    "collapsed": false
   },
   "outputs": [
    {
     "name": "stdout",
     "output_type": "stream",
     "text": [
      "[16, 14, 10, 8, 7, 9, 3, 2, 4, 1]\n"
     ]
    }
   ],
   "source": [
    "print(buildMaxHeap([4, 1, 3, 2, 16, 9, 10, 14, 8, 7]))"
   ]
  },
  {
   "cell_type": "code",
   "execution_count": null,
   "metadata": {
    "collapsed": true
   },
   "outputs": [],
   "source": []
  }
 ],
 "metadata": {
  "kernelspec": {
   "display_name": "Python 3",
   "language": "python",
   "name": "python3"
  },
  "language_info": {
   "codemirror_mode": {
    "name": "ipython",
    "version": 3
   },
   "file_extension": ".py",
   "mimetype": "text/x-python",
   "name": "python",
   "nbconvert_exporter": "python",
   "pygments_lexer": "ipython3",
   "version": "3.6.4"
  }
 },
 "nbformat": 4,
 "nbformat_minor": 2
}
