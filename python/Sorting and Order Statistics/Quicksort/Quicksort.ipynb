{
 "cells": [
  {
   "cell_type": "code",
   "execution_count": 1,
   "metadata": {
    "collapsed": true
   },
   "outputs": [],
   "source": [
    "def swap(a, i, r):\n",
    "    tmp = a[i]\n",
    "    a[i] = r\n",
    "    a[r] = tmp"
   ]
  },
  {
   "cell_type": "code",
   "execution_count": 9,
   "metadata": {
    "collapsed": true
   },
   "outputs": [],
   "source": [
    "def partition(a, first, last):\n",
    "    x = a[last]\n",
    "    i = first - 1\n",
    "    for j in range(first, last-1):\n",
    "        if a[j] <= x:\n",
    "            i = i + 1\n",
    "            swap(a, i, j)\n",
    "    swap(a, i+1, last)\n",
    "    return i + 1"
   ]
  },
  {
   "cell_type": "code",
   "execution_count": 10,
   "metadata": {
    "collapsed": true
   },
   "outputs": [],
   "source": [
    "def quicksort(a, first, last):\n",
    "    if first < last:\n",
    "        q = partition(a, first, last)\n",
    "        quicksort(a, first, q-1)\n",
    "        quicksort(a, q+1, last)"
   ]
  },
  {
   "cell_type": "code",
   "execution_count": 12,
   "metadata": {
    "collapsed": false
   },
   "outputs": [
    {
     "name": "stdout",
     "output_type": "stream",
     "text": [
      "[2, 2, 3, 7, 5, 7, 7, 6]\n"
     ]
    }
   ],
   "source": [
    "a = [2,8,7,1,3,5,6,4]\n",
    "quicksort(a, 0, len(a)-1)\n",
    "print(a)"
   ]
  },
  {
   "cell_type": "code",
   "execution_count": null,
   "metadata": {
    "collapsed": true
   },
   "outputs": [],
   "source": []
  },
  {
   "cell_type": "code",
   "execution_count": null,
   "metadata": {
    "collapsed": true
   },
   "outputs": [],
   "source": []
  }
 ],
 "metadata": {
  "kernelspec": {
   "display_name": "Python 3",
   "language": "python",
   "name": "python3"
  },
  "language_info": {
   "codemirror_mode": {
    "name": "ipython",
    "version": 3
   },
   "file_extension": ".py",
   "mimetype": "text/x-python",
   "name": "python",
   "nbconvert_exporter": "python",
   "pygments_lexer": "ipython3",
   "version": "3.6.4"
  }
 },
 "nbformat": 4,
 "nbformat_minor": 2
}
