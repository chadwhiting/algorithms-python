{
 "cells": [
  {
   "cell_type": "code",
   "execution_count": 63,
   "metadata": {
    "collapsed": false
   },
   "outputs": [],
   "source": [
    "# https://stackoverflow.com/questions/1617699/how-to-obtain-all-subsequence-combinations-of-a-string-in-java-or-c-etc\n",
    "# https://en.wikipedia.org/wiki/Power_set\n",
    "def powerset(s):\n",
    "    n = len(s)\n",
    "    masks = [1<<j for j in range(n)]\n",
    "    for i in range(1, 2**n):\n",
    "        yield [s[j] for j in range(n) if (masks[j] & i)]"
   ]
  },
  {
   "cell_type": "code",
   "execution_count": 77,
   "metadata": {
    "collapsed": false
   },
   "outputs": [],
   "source": [
    "def powersetLongFormForUnderstanding(s):\n",
    "    n = len(s)\n",
    "    #masks is simply creating a list of bitmasks by successively\n",
    "    #flipping the 1 bit to true so only 1 bit is active at a time\n",
    "    #ex: 001, 010, 100\n",
    "    #masks2 = [1<<j for j in range(n)]\n",
    "    masks = []\n",
    "    for j in range(n):\n",
    "        masks.append(1<<j)\n",
    "    #print(masks)\n",
    "    #print(masks2)\n",
    "    # the for loop is creating a data structure that could be thought of as a list of lists\n",
    "    # the overall list contains all subsequences\n",
    "    # each sublist is a subsequence\n",
    "    # yield just creates a thing called a generator that saves memory rather than storing\n",
    "    # everything in a list in memory\n",
    "    # https://stackoverflow.com/questions/231767/what-does-the-yield-keyword-do-in-python\n",
    "    #for i in range(1, 2**n):\n",
    "    #    yield [s[j] for j in range(n) if (masks[j] & i)]\n",
    "    result = []\n",
    "    for i in range(1, 2**n):\n",
    "        subresult = []\n",
    "        for j in range(n):\n",
    "            if (masks[j] & i):\n",
    "                subresult.append(s[j])\n",
    "        result.append(subresult)\n",
    "    return result"
   ]
  },
  {
   "cell_type": "code",
   "execution_count": 83,
   "metadata": {
    "collapsed": false
   },
   "outputs": [
    {
     "name": "stdout",
     "output_type": "stream",
     "text": [
      "[1, 2, 3, 4, 5]\n",
      "\n",
      "\n",
      "\n",
      "\n",
      "\n",
      "True\n"
     ]
    }
   ],
   "source": [
    "s = list(range(1,6))\n",
    "print(s)\n",
    "#for e in powerset2(s):\n",
    "#    print(e, end=\" | \")\n",
    "\n",
    "result1 = powerset2(s)\n",
    "\n",
    "for i in range(5):\n",
    "    print()\n",
    "    \n",
    "result2 = []\n",
    "for e in powerset(s):\n",
    "    result2.append(e)\n",
    "    \n",
    "print(result1 == result2)"
   ]
  },
  {
   "cell_type": "code",
   "execution_count": 38,
   "metadata": {
    "collapsed": false
   },
   "outputs": [],
   "source": [
    "def findMaximumRecursive(a, k):\n",
    "    n = len(a)\n",
    "    if n == 0:\n",
    "        return 0\n",
    "    else:\n",
    "        q = 0\n",
    "        for i in range(n):\n",
    "            total = 0\n",
    "            while total + a[i] <= k:\n",
    "                total = total + a[i]\n",
    "            result = max(q, total + findMaximumRecursive(a[1:], k))\n",
    "            if result > q and result <= k:\n",
    "                q = result\n",
    "        return q"
   ]
  },
  {
   "cell_type": "code",
   "execution_count": 26,
   "metadata": {
    "collapsed": true
   },
   "outputs": [],
   "source": [
    "def findMaximum(a, k):\n",
    "    n = len(a)\n",
    "    total = 0\n",
    "    print(a)\n",
    "    for i in range(n):\n",
    "        total = total + a[i]\n",
    "        if total < k:\n",
    "            for j in range(i, n):\n",
    "                while total + a[j] <= k:\n",
    "                    total = total + a[j]\n",
    "        if total > k:\n",
    "            total = 0\n",
    "        elif total == k:\n",
    "            print(\"Match \", total)\n",
    "            return total\n",
    "    print(\"No match \", total)\n",
    "    return total"
   ]
  },
  {
   "cell_type": "code",
   "execution_count": 16,
   "metadata": {
    "collapsed": false
   },
   "outputs": [
    {
     "name": "stdout",
     "output_type": "stream",
     "text": [
      "0\n"
     ]
    }
   ],
   "source": [
    "# Sample Input\n",
    "# 2\n",
    "# 3 12\n",
    "# 1 6 9\n",
    "# 5 9\n",
    "# 3 4 4 4 8\n",
    "# Reading the input\n",
    "#     n, k = map(int, input().strip().split(' '))\n",
    "#     a = list(map(int, input().strip().split(' ')))\n",
    "\n",
    "t = 3\n",
    "n1, k1 = 3, 12\n",
    "a1 = [1, 6, 9]\n",
    "a1.sort(reverse = True)\n",
    "\n",
    "n2, k2 = 5, 9\n",
    "a2 = [3, 4, 4, 4, 8]\n",
    "a2.sort(reverse = True)\n",
    "\n",
    "n3, k3 = 3, 12\n",
    "a3 = [1, 6, 9]\n",
    "for i in range(2000):\n",
    "    a3.append(i)\n",
    "a3.sort(reverse = True)\n",
    "\n",
    "\n",
    "n4, k4 = 1, 1\n",
    "a4 = [2]\n",
    "a4.sort(reverse = True)\n",
    "#print(a1, a2, a3, a4, sep=\"\\n\")\n",
    "\n",
    "#print(findMaximum(a1, k1))\n",
    "# expected = 12\n",
    "#print(findMaximum(a2, k2))\n",
    "# expected = 9\n",
    "#print(findMaximum(a3, k3))\n",
    "print(findMaximum(a4, k4))"
   ]
  },
  {
   "cell_type": "code",
   "execution_count": 43,
   "metadata": {
    "collapsed": false
   },
   "outputs": [
    {
     "name": "stdout",
     "output_type": "stream",
     "text": [
      "12\n"
     ]
    }
   ],
   "source": [
    "# Input\n",
    "#7\n",
    "#3 9\n",
    "#3 2 4\n",
    "\n",
    "#3 12\n",
    "#3 10 4\n",
    "\n",
    "#3 13\n",
    "#3 10 4\n",
    "\n",
    "#3 16\n",
    "#3 10 4\n",
    "\n",
    "#3 2000\n",
    "#2000 2000 2000\n",
    "\n",
    "#3 9\n",
    "#9 9 9\n",
    "\n",
    "#3 8\n",
    "#9 9 9\n",
    "\n",
    "# Output\n",
    "#9 (3, 9)\n",
    "#12 (3, 12)\n",
    "#13 (3, 13)\n",
    "#16 (3, 16)\n",
    "#2000 (3, 2000)\n",
    "#9 (3, 9)\n",
    "#0 (3,8)\n",
    "\n",
    "#n, k = 3, 2000\n",
    "#a = [2000, 2000, 2000]\n",
    "\n",
    "#k = 9\n",
    "#k = 8\n",
    "#a = [9, 9, 9]\n",
    "\n",
    "#k = 16\n",
    "#a = [3, 10, 4]\n",
    "\n",
    "k= 13\n",
    "a = [3, 10, 4]\n",
    "a.sort(reverse = True)\n",
    "print(findMaximumRecursive(a, k))"
   ]
  },
  {
   "cell_type": "code",
   "execution_count": null,
   "metadata": {
    "collapsed": true
   },
   "outputs": [],
   "source": []
  }
 ],
 "metadata": {
  "kernelspec": {
   "display_name": "Python 3",
   "language": "python",
   "name": "python3"
  },
  "language_info": {
   "codemirror_mode": {
    "name": "ipython",
    "version": 3
   },
   "file_extension": ".py",
   "mimetype": "text/x-python",
   "name": "python",
   "nbconvert_exporter": "python",
   "pygments_lexer": "ipython3",
   "version": "3.6.1"
  }
 },
 "nbformat": 4,
 "nbformat_minor": 2
}
