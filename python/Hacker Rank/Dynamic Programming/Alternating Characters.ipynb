{
 "cells": [
  {
   "cell_type": "code",
   "execution_count": 19,
   "metadata": {
    "collapsed": true
   },
   "outputs": [],
   "source": [
    "def getMinDeletionsDp(a):\n",
    "    n = len(a)\n",
    "    deletions = [0 for i in range(n)]\n",
    "    \n",
    "    for i in range(1, n):\n",
    "        for j in range(i, 0, -1):\n",
    "            if a[j] == a[j-1]:\n",
    "                deletions[i] = deletions[i] + 1\n",
    "    print(deletions)\n",
    "    return deletions[len(a)-1]"
   ]
  },
  {
   "cell_type": "code",
   "execution_count": 29,
   "metadata": {
    "collapsed": true
   },
   "outputs": [],
   "source": [
    "def getMinDeletions(a):\n",
    "    deletions = 0\n",
    "    for i in range(len(a)-1):\n",
    "        if a[i] == a[i+1]:\n",
    "            deletions = deletions + 1\n",
    "    return deletions"
   ]
  },
  {
   "cell_type": "code",
   "execution_count": 30,
   "metadata": {
    "collapsed": false
   },
   "outputs": [
    {
     "name": "stdout",
     "output_type": "stream",
     "text": [
      "4 True\n"
     ]
    }
   ],
   "source": [
    "#3\n",
    "#4\n",
    "#0\n",
    "#0\n",
    "#4\n",
    "sample = \"ABAA\"\n",
    "a = \"AAAA\"\n",
    "b = \"BBBBB\"\n",
    "c = \"ABABABAB\"\n",
    "d = \"BABABA\"\n",
    "e = \"AAABBB\"\n",
    "answers = {a:3,b:4,c:0,d:0,e:4}\n",
    "result = getMinDeletions(e)\n",
    "print(result,result==answers[e])"
   ]
  },
  {
   "cell_type": "code",
   "execution_count": null,
   "metadata": {
    "collapsed": true
   },
   "outputs": [],
   "source": []
  }
 ],
 "metadata": {
  "kernelspec": {
   "display_name": "Python 3",
   "language": "python",
   "name": "python3"
  },
  "language_info": {
   "codemirror_mode": {
    "name": "ipython",
    "version": 3
   },
   "file_extension": ".py",
   "mimetype": "text/x-python",
   "name": "python",
   "nbconvert_exporter": "python",
   "pygments_lexer": "ipython3",
   "version": "3.6.1"
  }
 },
 "nbformat": 4,
 "nbformat_minor": 2
}
