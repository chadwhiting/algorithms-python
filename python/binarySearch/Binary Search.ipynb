{
 "cells": [
  {
   "cell_type": "code",
   "execution_count": 116,
   "metadata": {
    "collapsed": false
   },
   "outputs": [],
   "source": [
    "def search(A, p, q, v):\n",
    "    if p == q:\n",
    "        return -1\n",
    "    mid = (p + q)//2\n",
    "    if A[mid] == v:\n",
    "        return mid\n",
    "    elif A[mid] > v:\n",
    "        return search(A, p, mid, v)\n",
    "    return search(A, mid + 1, q, v)"
   ]
  },
  {
   "cell_type": "code",
   "execution_count": 119,
   "metadata": {
    "collapsed": false
   },
   "outputs": [
    {
     "name": "stdout",
     "output_type": "stream",
     "text": [
      "Looking for v= 6603\n",
      "Found at index= 16603 value= 6603\n",
      "\n",
      "Looking for v= 4639\n",
      "Found at index= 14639 value= 4639\n",
      "\n",
      "Looking for v= 12997\n",
      "Not found\n",
      "\n",
      "Looking for v= 2344\n",
      "Found at index= 12344 value= 2344\n",
      "\n",
      "Looking for v= 3213\n",
      "Found at index= 13213 value= 3213\n",
      "\n",
      "Looking for v= 4193\n",
      "Found at index= 14193 value= 4193\n",
      "\n",
      "Looking for v= -5327\n",
      "Found at index= 4673 value= -5327\n",
      "\n",
      "Looking for v= -7434\n",
      "Found at index= 2566 value= -7434\n",
      "\n",
      "Looking for v= -14348\n",
      "Not found\n",
      "\n",
      "Looking for v= -260\n",
      "Found at index= 9740 value= -260\n",
      "\n"
     ]
    }
   ],
   "source": [
    "import random \n",
    "\n",
    "for i in range(10):\n",
    "    A, v, index = list(range(-10000, 10000)), random.randrange(-15000, 15000), -1\n",
    "    print(\"Looking for v=\", v)\n",
    "    index = search(A, 0, len(A), v)\n",
    "    if index == -1:\n",
    "        print (\"Not found\")\n",
    "    else:\n",
    "        print(\"Found at index=\", index, \"value=\", A[index])\n",
    "    print ()"
   ]
  },
  {
   "cell_type": "code",
   "execution_count": null,
   "metadata": {
    "collapsed": true
   },
   "outputs": [],
   "source": []
  }
 ],
 "metadata": {
  "kernelspec": {
   "display_name": "Python 3",
   "language": "python",
   "name": "python3"
  },
  "language_info": {
   "codemirror_mode": {
    "name": "ipython",
    "version": 3
   },
   "file_extension": ".py",
   "mimetype": "text/x-python",
   "name": "python",
   "nbconvert_exporter": "python",
   "pygments_lexer": "ipython3",
   "version": "3.5.2"
  }
 },
 "nbformat": 4,
 "nbformat_minor": 2
}
